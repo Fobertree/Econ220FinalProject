{
 "cells": [
  {
   "cell_type": "markdown",
   "metadata": {},
   "source": [
    "# Econ 220 Final Project\n",
    "## Introduction\n",
    "### Motivation\n",
    "### Importance\n",
    "\n",
    "## Literature Review\n",
    "\n",
    "## Data\n",
    "\n",
    "## Group Members\n",
    "- Jason\n",
    "- Briana Yang\n",
    "- Franklin Zhang\n",
    "- Alexander Liu\n",
    "\n",
    "## Referenced Links\n",
    "- [Stacked Barplot (Python Graph Gallery)](https://python-graph-gallery.com/stacked-and-percent-stacked-barplot/)\n",
    "- https://stackoverflow.com/questions/44353516/get-keys-of-pandas-series-value-counts"
   ]
  },
  {
   "cell_type": "code",
   "execution_count": 2,
   "metadata": {},
   "outputs": [
    {
     "name": "stdout",
     "output_type": "stream",
     "text": [
      "Requirement already satisfied: seaborn in c:\\users\\alexa\\anaconda3\\lib\\site-packages (0.13.2)\n",
      "Requirement already satisfied: numpy!=1.24.0,>=1.20 in c:\\users\\alexa\\anaconda3\\lib\\site-packages (from seaborn) (1.25.1)\n",
      "Requirement already satisfied: pandas>=1.2 in c:\\users\\alexa\\anaconda3\\lib\\site-packages (from seaborn) (2.1.4)\n",
      "Requirement already satisfied: matplotlib!=3.6.1,>=3.4 in c:\\users\\alexa\\anaconda3\\lib\\site-packages (from seaborn) (3.8.0)\n",
      "Requirement already satisfied: contourpy>=1.0.1 in c:\\users\\alexa\\anaconda3\\lib\\site-packages (from matplotlib!=3.6.1,>=3.4->seaborn) (1.2.0)\n",
      "Requirement already satisfied: cycler>=0.10 in c:\\users\\alexa\\anaconda3\\lib\\site-packages (from matplotlib!=3.6.1,>=3.4->seaborn) (0.11.0)\n",
      "Requirement already satisfied: fonttools>=4.22.0 in c:\\users\\alexa\\anaconda3\\lib\\site-packages (from matplotlib!=3.6.1,>=3.4->seaborn) (4.25.0)\n",
      "Requirement already satisfied: kiwisolver>=1.0.1 in c:\\users\\alexa\\anaconda3\\lib\\site-packages (from matplotlib!=3.6.1,>=3.4->seaborn) (1.4.4)\n",
      "Requirement already satisfied: packaging>=20.0 in c:\\users\\alexa\\anaconda3\\lib\\site-packages (from matplotlib!=3.6.1,>=3.4->seaborn) (23.1)\n",
      "Requirement already satisfied: pillow>=6.2.0 in c:\\users\\alexa\\anaconda3\\lib\\site-packages (from matplotlib!=3.6.1,>=3.4->seaborn) (10.2.0)\n",
      "Requirement already satisfied: pyparsing>=2.3.1 in c:\\users\\alexa\\anaconda3\\lib\\site-packages (from matplotlib!=3.6.1,>=3.4->seaborn) (3.0.9)\n",
      "Requirement already satisfied: python-dateutil>=2.7 in c:\\users\\alexa\\anaconda3\\lib\\site-packages (from matplotlib!=3.6.1,>=3.4->seaborn) (2.8.2)\n",
      "Requirement already satisfied: pytz>=2020.1 in c:\\users\\alexa\\anaconda3\\lib\\site-packages (from pandas>=1.2->seaborn) (2023.3.post1)\n",
      "Requirement already satisfied: tzdata>=2022.1 in c:\\users\\alexa\\anaconda3\\lib\\site-packages (from pandas>=1.2->seaborn) (2023.3)\n",
      "Requirement already satisfied: six>=1.5 in c:\\users\\alexa\\anaconda3\\lib\\site-packages (from python-dateutil>=2.7->matplotlib!=3.6.1,>=3.4->seaborn) (1.16.0)\n",
      "Note: you may need to restart the kernel to use updated packages.\n",
      "Name: seaborn\n",
      "Version: 0.13.2\n",
      "Summary: Statistical data visualization\n",
      "Home-page: \n",
      "Author: \n",
      "Author-email: Michael Waskom <mwaskom@gmail.com>\n",
      "License: \n",
      "Location: c:\\users\\alexa\\anaconda3\\lib\\site-packages\n",
      "Requires: matplotlib, numpy, pandas\n",
      "Required-by: \n",
      "Note: you may need to restart the kernel to use updated packages.\n"
     ]
    }
   ],
   "source": [
    "%pip install seaborn --upgrade\n",
    "%pip show seaborn"
   ]
  },
  {
   "cell_type": "code",
   "execution_count": 41,
   "metadata": {},
   "outputs": [],
   "source": [
    "import pandas as pd\n",
    "import matplotlib.pyplot as plt\n",
    "from matplotlib.colors import LogNorm\n",
    "import matplotlib.patches as mpatches\n",
    "import matplotlib.ticker as mtick\n",
    "import seaborn as sns\n",
    "import os"
   ]
  },
  {
   "cell_type": "code",
   "execution_count": 4,
   "metadata": {},
   "outputs": [],
   "source": [
    "data_path = \"Data\"\n",
    "\n",
    "df = pd.read_csv(os.path.join(data_path,\"usa_00002.csv.gz\"))"
   ]
  },
  {
   "cell_type": "code",
   "execution_count": 5,
   "metadata": {},
   "outputs": [
    {
     "data": {
      "text/plain": [
       "Index(['YEAR', 'SAMPLE', 'SERIAL', 'CBSERIAL', 'HHWT', 'CLUSTER', 'STRATA',\n",
       "       'GQ', 'PERNUM', 'PERWT', 'SEX', 'AGE', 'RACE', 'RACED', 'EDUC', 'EDUCD',\n",
       "       'VETSTAT', 'VETSTATD'],\n",
       "      dtype='object')"
      ]
     },
     "execution_count": 5,
     "metadata": {},
     "output_type": "execute_result"
    }
   ],
   "source": [
    "df.columns"
   ]
  },
  {
   "cell_type": "code",
   "execution_count": 6,
   "metadata": {},
   "outputs": [
    {
     "data": {
      "text/plain": [
       "RangeIndex(start=0, stop=3239553, step=1)"
      ]
     },
     "execution_count": 6,
     "metadata": {},
     "output_type": "execute_result"
    }
   ],
   "source": [
    "df.index\n"
   ]
  },
  {
   "cell_type": "code",
   "execution_count": 7,
   "metadata": {},
   "outputs": [],
   "source": [
    "data = df[['AGE','EDUC','VETSTAT','VETSTATD','RACE','SEX']]"
   ]
  },
  {
   "cell_type": "code",
   "execution_count": 8,
   "metadata": {},
   "outputs": [
    {
     "data": {
      "text/html": [
       "<div>\n",
       "<style scoped>\n",
       "    .dataframe tbody tr th:only-of-type {\n",
       "        vertical-align: middle;\n",
       "    }\n",
       "\n",
       "    .dataframe tbody tr th {\n",
       "        vertical-align: top;\n",
       "    }\n",
       "\n",
       "    .dataframe thead th {\n",
       "        text-align: right;\n",
       "    }\n",
       "</style>\n",
       "<table border=\"1\" class=\"dataframe\">\n",
       "  <thead>\n",
       "    <tr style=\"text-align: right;\">\n",
       "      <th></th>\n",
       "      <th>AGE</th>\n",
       "      <th>EDUC</th>\n",
       "      <th>VETSTAT</th>\n",
       "      <th>VETSTATD</th>\n",
       "      <th>RACE</th>\n",
       "      <th>SEX</th>\n",
       "    </tr>\n",
       "  </thead>\n",
       "  <tbody>\n",
       "    <tr>\n",
       "      <th>0</th>\n",
       "      <td>39</td>\n",
       "      <td>4</td>\n",
       "      <td>1</td>\n",
       "      <td>11</td>\n",
       "      <td>2</td>\n",
       "      <td>1</td>\n",
       "    </tr>\n",
       "    <tr>\n",
       "      <th>1</th>\n",
       "      <td>21</td>\n",
       "      <td>4</td>\n",
       "      <td>1</td>\n",
       "      <td>11</td>\n",
       "      <td>1</td>\n",
       "      <td>2</td>\n",
       "    </tr>\n",
       "    <tr>\n",
       "      <th>2</th>\n",
       "      <td>19</td>\n",
       "      <td>7</td>\n",
       "      <td>1</td>\n",
       "      <td>11</td>\n",
       "      <td>2</td>\n",
       "      <td>1</td>\n",
       "    </tr>\n",
       "    <tr>\n",
       "      <th>3</th>\n",
       "      <td>77</td>\n",
       "      <td>3</td>\n",
       "      <td>1</td>\n",
       "      <td>11</td>\n",
       "      <td>1</td>\n",
       "      <td>1</td>\n",
       "    </tr>\n",
       "    <tr>\n",
       "      <th>4</th>\n",
       "      <td>41</td>\n",
       "      <td>3</td>\n",
       "      <td>1</td>\n",
       "      <td>11</td>\n",
       "      <td>2</td>\n",
       "      <td>1</td>\n",
       "    </tr>\n",
       "    <tr>\n",
       "      <th>...</th>\n",
       "      <td>...</td>\n",
       "      <td>...</td>\n",
       "      <td>...</td>\n",
       "      <td>...</td>\n",
       "      <td>...</td>\n",
       "      <td>...</td>\n",
       "    </tr>\n",
       "    <tr>\n",
       "      <th>3239548</th>\n",
       "      <td>63</td>\n",
       "      <td>6</td>\n",
       "      <td>1</td>\n",
       "      <td>11</td>\n",
       "      <td>1</td>\n",
       "      <td>2</td>\n",
       "    </tr>\n",
       "    <tr>\n",
       "      <th>3239549</th>\n",
       "      <td>45</td>\n",
       "      <td>5</td>\n",
       "      <td>1</td>\n",
       "      <td>11</td>\n",
       "      <td>1</td>\n",
       "      <td>1</td>\n",
       "    </tr>\n",
       "    <tr>\n",
       "      <th>3239550</th>\n",
       "      <td>85</td>\n",
       "      <td>6</td>\n",
       "      <td>1</td>\n",
       "      <td>11</td>\n",
       "      <td>1</td>\n",
       "      <td>2</td>\n",
       "    </tr>\n",
       "    <tr>\n",
       "      <th>3239551</th>\n",
       "      <td>67</td>\n",
       "      <td>11</td>\n",
       "      <td>1</td>\n",
       "      <td>11</td>\n",
       "      <td>1</td>\n",
       "      <td>2</td>\n",
       "    </tr>\n",
       "    <tr>\n",
       "      <th>3239552</th>\n",
       "      <td>67</td>\n",
       "      <td>8</td>\n",
       "      <td>1</td>\n",
       "      <td>11</td>\n",
       "      <td>1</td>\n",
       "      <td>1</td>\n",
       "    </tr>\n",
       "  </tbody>\n",
       "</table>\n",
       "<p>3239553 rows × 6 columns</p>\n",
       "</div>"
      ],
      "text/plain": [
       "         AGE  EDUC  VETSTAT  VETSTATD  RACE  SEX\n",
       "0         39     4        1        11     2    1\n",
       "1         21     4        1        11     1    2\n",
       "2         19     7        1        11     2    1\n",
       "3         77     3        1        11     1    1\n",
       "4         41     3        1        11     2    1\n",
       "...      ...   ...      ...       ...   ...  ...\n",
       "3239548   63     6        1        11     1    2\n",
       "3239549   45     5        1        11     1    1\n",
       "3239550   85     6        1        11     1    2\n",
       "3239551   67    11        1        11     1    2\n",
       "3239552   67     8        1        11     1    1\n",
       "\n",
       "[3239553 rows x 6 columns]"
      ]
     },
     "execution_count": 8,
     "metadata": {},
     "output_type": "execute_result"
    }
   ],
   "source": [
    "data"
   ]
  },
  {
   "cell_type": "code",
   "execution_count": 9,
   "metadata": {},
   "outputs": [
    {
     "name": "stdout",
     "output_type": "stream",
     "text": [
      "<class 'pandas.core.frame.DataFrame'>\n",
      "RangeIndex: 3239553 entries, 0 to 3239552\n",
      "Data columns (total 6 columns):\n",
      " #   Column    Dtype\n",
      "---  ------    -----\n",
      " 0   AGE       int64\n",
      " 1   EDUC      int64\n",
      " 2   VETSTAT   int64\n",
      " 3   VETSTATD  int64\n",
      " 4   RACE      int64\n",
      " 5   SEX       int64\n",
      "dtypes: int64(6)\n",
      "memory usage: 148.3 MB\n"
     ]
    }
   ],
   "source": [
    "data.info()"
   ]
  },
  {
   "cell_type": "markdown",
   "metadata": {},
   "source": [
    "## Data Cleaning and Preprocessing"
   ]
  },
  {
   "cell_type": "code",
   "execution_count": 10,
   "metadata": {},
   "outputs": [
    {
     "data": {
      "text/plain": [
       "96"
      ]
     },
     "execution_count": 10,
     "metadata": {},
     "output_type": "execute_result"
    }
   ],
   "source": [
    "data['AGE'].max() # Check if we have 999 missing code"
   ]
  },
  {
   "cell_type": "code",
   "execution_count": 11,
   "metadata": {},
   "outputs": [
    {
     "data": {
      "text/plain": [
       "EDUC\n",
       "6     957679\n",
       "10    507242\n",
       "7     378171\n",
       "11    320738\n",
       "1     235229\n",
       "8     217713\n",
       "2     208489\n",
       "0     189602\n",
       "5      82793\n",
       "4      74787\n",
       "3      67110\n",
       "Name: count, dtype: int64"
      ]
     },
     "execution_count": 11,
     "metadata": {},
     "output_type": "execute_result"
    }
   ],
   "source": [
    "data['EDUC'].value_counts()"
   ]
  },
  {
   "cell_type": "code",
   "execution_count": 12,
   "metadata": {},
   "outputs": [
    {
     "data": {
      "text/plain": [
       "VETSTAT\n",
       "1    2433934\n",
       "0     601405\n",
       "2     204214\n",
       "Name: count, dtype: int64"
      ]
     },
     "execution_count": 12,
     "metadata": {},
     "output_type": "execute_result"
    }
   ],
   "source": [
    "data['VETSTAT'].value_counts()"
   ]
  },
  {
   "cell_type": "code",
   "execution_count": 13,
   "metadata": {},
   "outputs": [
    {
     "data": {
      "text/plain": [
       "SEX\n",
       "2    1651221\n",
       "1    1588332\n",
       "Name: count, dtype: int64"
      ]
     },
     "execution_count": 13,
     "metadata": {},
     "output_type": "execute_result"
    }
   ],
   "source": [
    "data['SEX'].value_counts()"
   ]
  },
  {
   "cell_type": "code",
   "execution_count": 14,
   "metadata": {},
   "outputs": [
    {
     "data": {
      "text/plain": [
       "RACE\n",
       "1    2501187\n",
       "2     303874\n",
       "6     129502\n",
       "7     115099\n",
       "8      90322\n",
       "4      46070\n",
       "3      33216\n",
       "9      12193\n",
       "5       8090\n",
       "Name: count, dtype: int64"
      ]
     },
     "execution_count": 14,
     "metadata": {},
     "output_type": "execute_result"
    }
   ],
   "source": [
    "data['RACE'].value_counts()"
   ]
  },
  {
   "cell_type": "code",
   "execution_count": 15,
   "metadata": {},
   "outputs": [
    {
     "data": {
      "text/plain": [
       "Text(0.5, 1.0, 'Age by VETSTAT Code before Pre-Processing')"
      ]
     },
     "execution_count": 15,
     "metadata": {},
     "output_type": "execute_result"
    },
    {
     "data": {
      "image/png": "[encoded data removed]",
      "text/plain": [
       "<Figure size 640x480 with 1 Axes>"
      ]
     },
     "metadata": {},
     "output_type": "display_data"
    }
   ],
   "source": [
    "sns.histplot(data=data, x='AGE',hue='VETSTAT',binwidth=5).set_title(\"Age by VETSTAT Code before Pre-Processing\")"
   ]
  },
  {
   "cell_type": "markdown",
   "metadata": {},
   "source": [
    "### Vetstat codes\n",
    "- 0: N/A\n",
    "- 1: Not a veteran\n",
    "- 2: Is a veteran\n",
    "- 9: Unknown"
   ]
  },
  {
   "cell_type": "code",
   "execution_count": 16,
   "metadata": {},
   "outputs": [],
   "source": [
    "# Remove VETSTAT codes 0 (N/A) and 9 (unknown)\n",
    "data = data[~data['VETSTAT'].isin(set([0,9]))] # Remove people not qualified to serve as a veteran by AGE or other reasons"
   ]
  },
  {
   "cell_type": "markdown",
   "metadata": {},
   "source": [
    "### Update VETSTAT codes\n",
    "- 0: Not a veteran\n",
    "- 1: Is a veteran"
   ]
  },
  {
   "cell_type": "code",
   "execution_count": 17,
   "metadata": {},
   "outputs": [
    {
     "name": "stderr",
     "output_type": "stream",
     "text": [
      "C:\\Users\\Alexa\\AppData\\Local\\Temp\\ipykernel_11168\\1271933246.py:3: SettingWithCopyWarning: \n",
      "A value is trying to be set on a copy of a slice from a DataFrame.\n",
      "Try using .loc[row_indexer,col_indexer] = value instead\n",
      "\n",
      "See the caveats in the documentation: https://pandas.pydata.org/pandas-docs/stable/user_guide/indexing.html#returning-a-view-versus-a-copy\n",
      "  data['VETSTAT'] = data['VETSTAT'].apply(lambda x: vetstat_conversion[x])\n"
     ]
    },
    {
     "data": {
      "text/plain": [
       "VETSTAT\n",
       "0    2433934\n",
       "1     204214\n",
       "Name: count, dtype: int64"
      ]
     },
     "execution_count": 17,
     "metadata": {},
     "output_type": "execute_result"
    }
   ],
   "source": [
    "vetstat_conversion = {1:0, 2:1}\n",
    "if 2 in data['VETSTAT'].values: # prevent double run\n",
    "    data['VETSTAT'] = data['VETSTAT'].apply(lambda x: vetstat_conversion[x])\n",
    "data['VETSTAT'].value_counts()"
   ]
  },
  {
   "cell_type": "code",
   "execution_count": 18,
   "metadata": {},
   "outputs": [
    {
     "data": {
      "text/plain": [
       "<Axes: xlabel='VETSTAT', ylabel='count'>"
      ]
     },
     "execution_count": 18,
     "metadata": {},
     "output_type": "execute_result"
    },
    {
     "data": {
      "image/png": "[encoded data removed]",
      "text/plain": [
       "<Figure size 640x480 with 1 Axes>"
      ]
     },
     "metadata": {},
     "output_type": "display_data"
    }
   ],
   "source": [
    "sns.countplot(data=data, x='VETSTAT')"
   ]
  },
  {
   "cell_type": "markdown",
   "metadata": {},
   "source": [
    "### EDUC codes\n",
    "- 00: N/A or no schooling\n",
    "- 01: Nursery school to grade 4\n",
    "- 02: Grade 5, 6, 7, or 8\n",
    "- 03: Grade 9\n",
    "- 04: Grade 10\n",
    "- 05: Grade 11\n",
    "- 06: Grade 12\n",
    "- 07: 1 year of college\n",
    "- 08: 2 years of college\n",
    "- 09: 3 years of college\n",
    "- 10: 4 years of college\n",
    "- 11: 5+ years of college\n",
    "- 99: Missing"
   ]
  },
  {
   "cell_type": "code",
   "execution_count": 19,
   "metadata": {},
   "outputs": [
    {
     "data": {
      "text/plain": [
       "<Axes: xlabel='EDUC', ylabel='count'>"
      ]
     },
     "execution_count": 19,
     "metadata": {},
     "output_type": "execute_result"
    },
    {
     "data": {
      "image/png": "[encoded data removed]",
      "text/plain": [
       "<Figure size 640x480 with 1 Axes>"
      ]
     },
     "metadata": {},
     "output_type": "display_data"
    }
   ],
   "source": [
    "data = data[data['EDUC'] != 99]\n",
    "sns.countplot(data=data, x='EDUC')"
   ]
  },
  {
   "cell_type": "markdown",
   "metadata": {},
   "source": [
    "## Descriptive Statistics"
   ]
  },
  {
   "cell_type": "code",
   "execution_count": 20,
   "metadata": {},
   "outputs": [
    {
     "data": {
      "text/plain": [
       "mean     4.993685e+01\n",
       "std      1.923503e+01\n",
       "min      1.700000e+01\n",
       "max      9.600000e+01\n",
       "count    2.638148e+06\n",
       "Name: AGE, dtype: float64"
      ]
     },
     "execution_count": 20,
     "metadata": {},
     "output_type": "execute_result"
    }
   ],
   "source": [
    "# Display descriptive statistics for AGE\n",
    "data['AGE'].agg(['mean','std','min','max','count'])"
   ]
  },
  {
   "cell_type": "code",
   "execution_count": 21,
   "metadata": {},
   "outputs": [
    {
     "data": {
      "text/plain": [
       "mean     7.740809e-02\n",
       "std      2.672379e-01\n",
       "min      0.000000e+00\n",
       "max      1.000000e+00\n",
       "count    2.638148e+06\n",
       "Name: VETSTAT, dtype: float64"
      ]
     },
     "execution_count": 21,
     "metadata": {},
     "output_type": "execute_result"
    }
   ],
   "source": [
    "# I don't think there is utility in running these descriptive statistics on coded variables but am leaving it for now\n",
    "data['VETSTAT'].agg(['mean','std','min','max','count'])"
   ]
  },
  {
   "cell_type": "code",
   "execution_count": 22,
   "metadata": {},
   "outputs": [
    {
     "data": {
      "text/plain": [
       "mean     7.395791e+00\n",
       "std      2.408572e+00\n",
       "min      0.000000e+00\n",
       "max      1.100000e+01\n",
       "count    2.638148e+06\n",
       "Name: EDUC, dtype: float64"
      ]
     },
     "execution_count": 22,
     "metadata": {},
     "output_type": "execute_result"
    }
   ],
   "source": [
    "data['EDUC'].agg(['mean','std','min','max','count'])"
   ]
  },
  {
   "cell_type": "markdown",
   "metadata": {},
   "source": [
    "## Plots"
   ]
  },
  {
   "cell_type": "code",
   "execution_count": 23,
   "metadata": {},
   "outputs": [
    {
     "data": {
      "text/plain": [
       "Text(0.5, 1.0, 'Non-Veteran vs Veteran Status by Age')"
      ]
     },
     "execution_count": 23,
     "metadata": {},
     "output_type": "execute_result"
    },
    {
     "data": {
      "image/png": "[encoded data removed]",
      "text/plain": [
       "<Figure size 640x480 with 1 Axes>"
      ]
     },
     "metadata": {},
     "output_type": "display_data"
    }
   ],
   "source": [
    "sns.histplot(data=data, x='AGE',hue='VETSTAT',binwidth=5).set_title('Non-Veteran vs Veteran Status by Age')"
   ]
  },
  {
   "cell_type": "code",
   "execution_count": 24,
   "metadata": {},
   "outputs": [
    {
     "data": {
      "text/plain": [
       "Text(0.5, 1.0, 'Veteran Status By Education Level Code')"
      ]
     },
     "execution_count": 24,
     "metadata": {},
     "output_type": "execute_result"
    },
    {
     "data": {
      "image/png": "[encoded data removed]",
      "text/plain": [
       "<Figure size 640x480 with 1 Axes>"
      ]
     },
     "metadata": {},
     "output_type": "display_data"
    }
   ],
   "source": [
    "sns.countplot(data=data.astype(str), x='EDUC',hue=\"VETSTAT\").set_title('Veteran Status By Education Level Code')"
   ]
  },
  {
   "cell_type": "code",
   "execution_count": 25,
   "metadata": {},
   "outputs": [
    {
     "data": {
      "image/png": "[encoded data removed]",
      "text/plain": [
       "<Figure size 640x480 with 1 Axes>"
      ]
     },
     "metadata": {},
     "output_type": "display_data"
    }
   ],
   "source": [
    "sns.countplot(data=data.astype(str), x='EDUC',hue=\"VETSTAT\").set_title('Veteran Status By Education Level Code')\n",
    "# Since veterans are a clear minority, we add a log scale to create more clarity\n",
    "plt.ylabel(\"Veteran Status (LOG)\")\n",
    "plt.yscale('log')"
   ]
  },
  {
   "cell_type": "code",
   "execution_count": 26,
   "metadata": {},
   "outputs": [
    {
     "data": {
      "text/plain": [
       "VETSTAT\n",
       "0    2433934\n",
       "1     204214\n",
       "Name: count, dtype: int64"
      ]
     },
     "execution_count": 26,
     "metadata": {},
     "output_type": "execute_result"
    }
   ],
   "source": [
    "data[\"VETSTAT\"].value_counts()"
   ]
  },
  {
   "cell_type": "code",
   "execution_count": 27,
   "metadata": {},
   "outputs": [
    {
     "data": {
      "text/plain": [
       "EDUC  VETSTAT\n",
       "0     0           36893\n",
       "      1            1244\n",
       "1     0           11065\n",
       "      1             295\n",
       "2     0           51765\n",
       "      1            2270\n",
       "3     0           29073\n",
       "      1            1241\n",
       "4     0           45798\n",
       "      1            1950\n",
       "5     0           73699\n",
       "      1            1958\n",
       "6     0          877647\n",
       "      1           79469\n",
       "7     0          343569\n",
       "      1           34532\n",
       "8     0          196253\n",
       "      1           21447\n",
       "10    0          472869\n",
       "      1           34373\n",
       "11    0          295303\n",
       "      1           25435\n",
       "Name: count, dtype: int64"
      ]
     },
     "execution_count": 27,
     "metadata": {},
     "output_type": "execute_result"
    }
   ],
   "source": [
    "# https://python-graph-gallery.com/stacked-and-percent-stacked-barplot/\n",
    "total = data[['EDUC','VETSTAT']].groupby(['EDUC','VETSTAT']).value_counts()\n",
    "total"
   ]
  },
  {
   "cell_type": "code",
   "execution_count": 28,
   "metadata": {},
   "outputs": [
    {
     "data": {
      "text/html": [
       "<div>\n",
       "<style scoped>\n",
       "    .dataframe tbody tr th:only-of-type {\n",
       "        vertical-align: middle;\n",
       "    }\n",
       "\n",
       "    .dataframe tbody tr th {\n",
       "        vertical-align: top;\n",
       "    }\n",
       "\n",
       "    .dataframe thead th {\n",
       "        text-align: right;\n",
       "    }\n",
       "</style>\n",
       "<table border=\"1\" class=\"dataframe\">\n",
       "  <thead>\n",
       "    <tr style=\"text-align: right;\">\n",
       "      <th></th>\n",
       "      <th>EDUC</th>\n",
       "      <th>VETSTAT</th>\n",
       "      <th>count</th>\n",
       "    </tr>\n",
       "  </thead>\n",
       "  <tbody>\n",
       "    <tr>\n",
       "      <th>0</th>\n",
       "      <td>0</td>\n",
       "      <td>0</td>\n",
       "      <td>36893</td>\n",
       "    </tr>\n",
       "    <tr>\n",
       "      <th>1</th>\n",
       "      <td>0</td>\n",
       "      <td>1</td>\n",
       "      <td>1244</td>\n",
       "    </tr>\n",
       "    <tr>\n",
       "      <th>2</th>\n",
       "      <td>1</td>\n",
       "      <td>0</td>\n",
       "      <td>11065</td>\n",
       "    </tr>\n",
       "    <tr>\n",
       "      <th>3</th>\n",
       "      <td>1</td>\n",
       "      <td>1</td>\n",
       "      <td>295</td>\n",
       "    </tr>\n",
       "    <tr>\n",
       "      <th>4</th>\n",
       "      <td>2</td>\n",
       "      <td>0</td>\n",
       "      <td>51765</td>\n",
       "    </tr>\n",
       "    <tr>\n",
       "      <th>5</th>\n",
       "      <td>2</td>\n",
       "      <td>1</td>\n",
       "      <td>2270</td>\n",
       "    </tr>\n",
       "    <tr>\n",
       "      <th>6</th>\n",
       "      <td>3</td>\n",
       "      <td>0</td>\n",
       "      <td>29073</td>\n",
       "    </tr>\n",
       "    <tr>\n",
       "      <th>7</th>\n",
       "      <td>3</td>\n",
       "      <td>1</td>\n",
       "      <td>1241</td>\n",
       "    </tr>\n",
       "    <tr>\n",
       "      <th>8</th>\n",
       "      <td>4</td>\n",
       "      <td>0</td>\n",
       "      <td>45798</td>\n",
       "    </tr>\n",
       "    <tr>\n",
       "      <th>9</th>\n",
       "      <td>4</td>\n",
       "      <td>1</td>\n",
       "      <td>1950</td>\n",
       "    </tr>\n",
       "    <tr>\n",
       "      <th>10</th>\n",
       "      <td>5</td>\n",
       "      <td>0</td>\n",
       "      <td>73699</td>\n",
       "    </tr>\n",
       "    <tr>\n",
       "      <th>11</th>\n",
       "      <td>5</td>\n",
       "      <td>1</td>\n",
       "      <td>1958</td>\n",
       "    </tr>\n",
       "    <tr>\n",
       "      <th>12</th>\n",
       "      <td>6</td>\n",
       "      <td>0</td>\n",
       "      <td>877647</td>\n",
       "    </tr>\n",
       "    <tr>\n",
       "      <th>13</th>\n",
       "      <td>6</td>\n",
       "      <td>1</td>\n",
       "      <td>79469</td>\n",
       "    </tr>\n",
       "    <tr>\n",
       "      <th>14</th>\n",
       "      <td>7</td>\n",
       "      <td>0</td>\n",
       "      <td>343569</td>\n",
       "    </tr>\n",
       "    <tr>\n",
       "      <th>15</th>\n",
       "      <td>7</td>\n",
       "      <td>1</td>\n",
       "      <td>34532</td>\n",
       "    </tr>\n",
       "    <tr>\n",
       "      <th>16</th>\n",
       "      <td>8</td>\n",
       "      <td>0</td>\n",
       "      <td>196253</td>\n",
       "    </tr>\n",
       "    <tr>\n",
       "      <th>17</th>\n",
       "      <td>8</td>\n",
       "      <td>1</td>\n",
       "      <td>21447</td>\n",
       "    </tr>\n",
       "    <tr>\n",
       "      <th>18</th>\n",
       "      <td>10</td>\n",
       "      <td>0</td>\n",
       "      <td>472869</td>\n",
       "    </tr>\n",
       "    <tr>\n",
       "      <th>19</th>\n",
       "      <td>10</td>\n",
       "      <td>1</td>\n",
       "      <td>34373</td>\n",
       "    </tr>\n",
       "    <tr>\n",
       "      <th>20</th>\n",
       "      <td>11</td>\n",
       "      <td>0</td>\n",
       "      <td>295303</td>\n",
       "    </tr>\n",
       "    <tr>\n",
       "      <th>21</th>\n",
       "      <td>11</td>\n",
       "      <td>1</td>\n",
       "      <td>25435</td>\n",
       "    </tr>\n",
       "  </tbody>\n",
       "</table>\n",
       "</div>"
      ],
      "text/plain": [
       "    EDUC  VETSTAT   count\n",
       "0      0        0   36893\n",
       "1      0        1    1244\n",
       "2      1        0   11065\n",
       "3      1        1     295\n",
       "4      2        0   51765\n",
       "5      2        1    2270\n",
       "6      3        0   29073\n",
       "7      3        1    1241\n",
       "8      4        0   45798\n",
       "9      4        1    1950\n",
       "10     5        0   73699\n",
       "11     5        1    1958\n",
       "12     6        0  877647\n",
       "13     6        1   79469\n",
       "14     7        0  343569\n",
       "15     7        1   34532\n",
       "16     8        0  196253\n",
       "17     8        1   21447\n",
       "18    10        0  472869\n",
       "19    10        1   34373\n",
       "20    11        0  295303\n",
       "21    11        1   25435"
      ]
     },
     "execution_count": 28,
     "metadata": {},
     "output_type": "execute_result"
    }
   ],
   "source": [
    "#total has a MultiIndex index we need to reset it\n",
    "total = total.reset_index(level=[0,1]) # [\"EDUC\", \"VETSTAT\"] also works here\n",
    "total"
   ]
  },
  {
   "cell_type": "code",
   "execution_count": 29,
   "metadata": {},
   "outputs": [
    {
     "name": "stdout",
     "output_type": "stream",
     "text": [
      "0\n"
     ]
    },
    {
     "data": {
      "text/html": [
       "<div>\n",
       "<style scoped>\n",
       "    .dataframe tbody tr th:only-of-type {\n",
       "        vertical-align: middle;\n",
       "    }\n",
       "\n",
       "    .dataframe tbody tr th {\n",
       "        vertical-align: top;\n",
       "    }\n",
       "\n",
       "    .dataframe thead th {\n",
       "        text-align: right;\n",
       "    }\n",
       "</style>\n",
       "<table border=\"1\" class=\"dataframe\">\n",
       "  <thead>\n",
       "    <tr style=\"text-align: right;\">\n",
       "      <th></th>\n",
       "      <th>EDUC</th>\n",
       "      <th>VETSTAT</th>\n",
       "      <th>count</th>\n",
       "    </tr>\n",
       "  </thead>\n",
       "  <tbody>\n",
       "  </tbody>\n",
       "</table>\n",
       "</div>"
      ],
      "text/plain": [
       "Empty DataFrame\n",
       "Columns: [EDUC, VETSTAT, count]\n",
       "Index: []"
      ]
     },
     "execution_count": 29,
     "metadata": {},
     "output_type": "execute_result"
    }
   ],
   "source": [
    "print(total[total[\"EDUC\"] == 9][\"count\"].sum())\n",
    "total[total[\"EDUC\"] == 9]"
   ]
  },
  {
   "cell_type": "code",
   "execution_count": 30,
   "metadata": {},
   "outputs": [
    {
     "data": {
      "text/plain": [
       "Index([0, 1, 2, 3, 4, 5, 6, 7, 8, 10, 11], dtype='int64', name='EDUC')"
      ]
     },
     "execution_count": 30,
     "metadata": {},
     "output_type": "execute_result"
    }
   ],
   "source": [
    "total[\"EDUC\"].value_counts().index"
   ]
  },
  {
   "cell_type": "code",
   "execution_count": 31,
   "metadata": {},
   "outputs": [
    {
     "name": "stdout",
     "output_type": "stream",
     "text": [
      "    EDUC  VETSTAT  count\n",
      "1      0        1   1244\n",
      "3      1        1    295\n",
      "5      2        1   2270\n",
      "7      3        1   1241\n",
      "9      4        1   1950\n",
      "11     5        1   1958\n",
      "13     6        1  79469\n",
      "15     7        1  34532\n",
      "17     8        1  21447\n",
      "19    10        1  34373\n",
      "21    11        1  25435\n"
     ]
    },
    {
     "data": {
      "image/png": "[encoded data removed]",
      "text/plain": [
       "<Figure size 640x480 with 1 Axes>"
      ]
     },
     "metadata": {},
     "output_type": "display_data"
    }
   ],
   "source": [
    "bar1 = sns.barplot(x='EDUC',y='count',data=total,color='darkblue',errorbar=None)\n",
    "# Bottom bar\n",
    "vet = total[total['VETSTAT']==1]\n",
    "\n",
    "print(vet)\n",
    "bar2 = sns.barplot(x='EDUC',y='count',data=vet,estimator=sum,errorbar=None,color='lightblue')\n",
    "\n",
    "top_bar = mpatches.Patch(color='darkblue', label='Non-Veteran')\n",
    "bottom_bar = mpatches.Patch(color='lightblue', label='Veteran')\n",
    "plt.legend(handles=[top_bar,bottom_bar])\n",
    "\n",
    "# show the graph\n",
    "plt.title(\"Stacked Log Bar Plot of Veteran Status By Education Level\")\n",
    "plt.ylabel(\"Veteran Status (LOG)\")\n",
    "plt.yscale('log')\n",
    "plt.show()"
   ]
  },
  {
   "cell_type": "code",
   "execution_count": 53,
   "metadata": {},
   "outputs": [
    {
     "name": "stdout",
     "output_type": "stream",
     "text": [
      "EDUC\n",
      "0      38137\n",
      "1      11360\n",
      "2      54035\n",
      "3      30314\n",
      "4      47748\n",
      "5      75657\n",
      "6     957116\n",
      "7     378101\n",
      "8     217700\n",
      "10    507242\n",
      "11    320738\n",
      "Name: count, dtype: int64\n",
      "total:     EDUC  VETSTAT   count        PCT\n",
      "0      0        0   36893  96.738076\n",
      "2      1        0   11065  97.403169\n",
      "4      2        0   51765  95.799019\n",
      "6      3        0   29073  95.906182\n",
      "8      4        0   45798  95.916059\n",
      "10     5        0   73699  97.412004\n",
      "12     6        0  877647  91.697036\n",
      "14     7        0  343569  90.866991\n",
      "16     8        0  196253  90.148369\n",
      "18    10        0  472869  93.223550\n",
      "20    11        0  295303  92.069851\n",
      "\n",
      " vet:     EDUC  VETSTAT  count       PCT\n",
      "1      0        1   1244  3.261924\n",
      "3      1        1    295  2.596831\n",
      "5      2        1   2270  4.200981\n",
      "7      3        1   1241  4.093818\n",
      "9      4        1   1950  4.083941\n",
      "11     5        1   1958  2.587996\n",
      "13     6        1  79469  8.302964\n",
      "15     7        1  34532  9.133009\n",
      "17     8        1  21447  9.851631\n",
      "19    10        1  34373  6.776450\n",
      "21    11        1  25435  7.930149\n"
     ]
    },
    {
     "data": {
      "image/png": "[encoded data removed]",
      "text/plain": [
       "<Figure size 640x480 with 1 Axes>"
      ]
     },
     "metadata": {},
     "output_type": "display_data"
    }
   ],
   "source": [
    "sns.set_theme(style=\"darkgrid\")\n",
    "\n",
    "# Create Percentage column\n",
    "educ_total = total.groupby(\"EDUC\")[\"count\"].sum()\n",
    "print(educ_total)\n",
    "total[\"PCT\"] = total[\"count\"] / total[\"EDUC\"].map(educ_total) * 100\n",
    "\n",
    "\n",
    "# Begin plotting\n",
    "bar1 = sns.barplot(x='EDUC',y='PCT',data=total,color='darkblue',errorbar=None)\n",
    "# Bottom bar\n",
    "vet = total[total['VETSTAT']==1]\n",
    "print(f\"total: {total[total['VETSTAT']==0]}\\n\\n vet: {vet}\")\n",
    "bar2 = sns.barplot(x='EDUC',y='PCT',data=vet,estimator=sum,errorbar=None,color='lightblue')\n",
    "\n",
    "top_bar = mpatches.Patch(color='darkblue', label='Non-Veteran')\n",
    "bottom_bar = mpatches.Patch(color='lightblue', label='Veteran')\n",
    "plt.legend(handles=[top_bar,bottom_bar])\n",
    "\n",
    "# show the graph\n",
    "plt.title(\"Stacked Percentage Bar Plot of Veteran Status By Education Level\")\n",
    "plt.ylabel(\"Education Code Rates by Veteran Status (PCT)\")\n",
    "fmt = '%.0f%%'\n",
    "yticks = mtick.FormatStrFormatter(fmt)\n",
    "#print(plt.gca())\n",
    "plt.gca().yaxis.set_major_formatter(yticks)\n",
    "\n",
    "plt.show()"
   ]
  },
  {
   "cell_type": "code",
   "execution_count": 33,
   "metadata": {},
   "outputs": [
    {
     "data": {
      "text/html": [
       "<div>\n",
       "<style scoped>\n",
       "    .dataframe tbody tr th:only-of-type {\n",
       "        vertical-align: middle;\n",
       "    }\n",
       "\n",
       "    .dataframe tbody tr th {\n",
       "        vertical-align: top;\n",
       "    }\n",
       "\n",
       "    .dataframe thead th {\n",
       "        text-align: right;\n",
       "    }\n",
       "</style>\n",
       "<table border=\"1\" class=\"dataframe\">\n",
       "  <thead>\n",
       "    <tr style=\"text-align: right;\">\n",
       "      <th>EDUC</th>\n",
       "      <th>0</th>\n",
       "      <th>1</th>\n",
       "      <th>2</th>\n",
       "      <th>3</th>\n",
       "      <th>4</th>\n",
       "      <th>5</th>\n",
       "      <th>6</th>\n",
       "      <th>7</th>\n",
       "      <th>8</th>\n",
       "      <th>10</th>\n",
       "      <th>11</th>\n",
       "    </tr>\n",
       "    <tr>\n",
       "      <th>VETSTAT</th>\n",
       "      <th></th>\n",
       "      <th></th>\n",
       "      <th></th>\n",
       "      <th></th>\n",
       "      <th></th>\n",
       "      <th></th>\n",
       "      <th></th>\n",
       "      <th></th>\n",
       "      <th></th>\n",
       "      <th></th>\n",
       "      <th></th>\n",
       "    </tr>\n",
       "  </thead>\n",
       "  <tbody>\n",
       "    <tr>\n",
       "      <th>0</th>\n",
       "      <td>36893</td>\n",
       "      <td>11065</td>\n",
       "      <td>51765</td>\n",
       "      <td>29073</td>\n",
       "      <td>45798</td>\n",
       "      <td>73699</td>\n",
       "      <td>877647</td>\n",
       "      <td>343569</td>\n",
       "      <td>196253</td>\n",
       "      <td>472869</td>\n",
       "      <td>295303</td>\n",
       "    </tr>\n",
       "    <tr>\n",
       "      <th>1</th>\n",
       "      <td>1244</td>\n",
       "      <td>295</td>\n",
       "      <td>2270</td>\n",
       "      <td>1241</td>\n",
       "      <td>1950</td>\n",
       "      <td>1958</td>\n",
       "      <td>79469</td>\n",
       "      <td>34532</td>\n",
       "      <td>21447</td>\n",
       "      <td>34373</td>\n",
       "      <td>25435</td>\n",
       "    </tr>\n",
       "  </tbody>\n",
       "</table>\n",
       "</div>"
      ],
      "text/plain": [
       "EDUC        0      1      2      3      4      5       6       7       8   \\\n",
       "VETSTAT                                                                     \n",
       "0        36893  11065  51765  29073  45798  73699  877647  343569  196253   \n",
       "1         1244    295   2270   1241   1950   1958   79469   34532   21447   \n",
       "\n",
       "EDUC         10      11  \n",
       "VETSTAT                  \n",
       "0        472869  295303  \n",
       "1         34373   25435  "
      ]
     },
     "execution_count": 33,
     "metadata": {},
     "output_type": "execute_result"
    }
   ],
   "source": [
    "heatmap_df = total.pivot(index=\"VETSTAT\",columns=\"EDUC\",values=\"count\")\n",
    "heatmap_df\n",
    "\n",
    "#.groupby([\"VETSTAT\"]).value_counts().unstack().T.reindex()"
   ]
  },
  {
   "cell_type": "code",
   "execution_count": 34,
   "metadata": {},
   "outputs": [
    {
     "data": {
      "text/plain": [
       "Text(0.5, 1.0, 'Education Heatmap by Veteran Status')"
      ]
     },
     "execution_count": 34,
     "metadata": {},
     "output_type": "execute_result"
    },
    {
     "data": {
      "image/png": "[encoded data removed]",
      "text/plain": [
       "<Figure size 640x480 with 2 Axes>"
      ]
     },
     "metadata": {},
     "output_type": "display_data"
    }
   ],
   "source": [
    "sns.heatmap(data = heatmap_df,norm=LogNorm()).set_title(\"Education Heatmap by Veteran Status\")\n",
    "# Might need to make this logarithmic as well"
   ]
  },
  {
   "cell_type": "code",
   "execution_count": null,
   "metadata": {},
   "outputs": [],
   "source": []
  }
 ],
 "metadata": {
  "kernelspec": {
   "display_name": "base",
   "language": "python",
   "name": "python3"
  },
  "language_info": {
   "codemirror_mode": {
    "name": "ipython",
    "version": 3
   },
   "file_extension": ".py",
   "mimetype": "text/x-python",
   "name": "python",
   "nbconvert_exporter": "python",
   "pygments_lexer": "ipython3",
   "version": "3.10.13"
  }
 },
 "nbformat": 4,
 "nbformat_minor": 2
}
