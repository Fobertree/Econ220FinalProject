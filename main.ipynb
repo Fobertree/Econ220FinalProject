{
 "cells": [
  {
   "cell_type": "markdown",
   "metadata": {},
   "source": [
    "# Striving for Education: Exploring the Relationship between Veterans and Their Educational Attainment\n",
    "## Group Members\n",
    "- Jason Lee\n",
    "- Alexander Liu\n",
    "- Briana Yang\n",
    "- Franklin Zhang\n",
    "\n",
    "## Introduction\n",
    "\n",
    "### Motivation\n",
    "\n",
    "&emsp;&emsp;On campus, students are constantly surrounded by a diverse tapestry of peers, each with unique backgrounds and future aspirations. Some students hold military backgrounds, having served before enrolling in college, while others consider enlisting after graduation, attracted by various motivations including career opportunities or a sense of duty. This diversity in experiences around us sparks our interest in understanding how education and military service both intersect and influence one another. It’s a topic that directly relates to the decisions we and our peers are making about our futures, especially in an environment where a paradox seemingly exists between the value of education and the merits of service. <br>\n",
    "&emsp;&emsp;The motivation for our project, however, resides in understanding this dichotomy from the military’s perspective as well. Despite “focusing its marketing efforts on social media influencers and e-games,” the military has recently struggled reaching young individuals (KQED). In fact, “the Department of Defense says military services missed recruiting goals by 41,000 during the 2023 fiscal year” (Wavy). The Navy has subsequently no longer required those who enlist to have a high school diploma or GED, with officials believing that “anywhere from 500 to 2,000 more sailors will be able to enlist because of the change” (CBS8). \n",
    "<br>&emsp;&emsp;Though our data will only be from 2019, these statistics underscore the evolving landscape of military service and its relationship with education. Our exploration into this dynamic interplay will not only inform policy and support systems for veterans, but will also contribute to discussions on social mobility, career development, and the role of education in shaping the lives of those who serve.\n",
    "\n",
    "\n",
    "### Importance\n",
    "\n",
    "&emsp;&emsp;Although the number of people who are currently enlisting in the military are dropping, veterans are still a very important population in America that largely goes understudied. Given the literature currently out around higher education attainment and a person’s veteran status, there are still many gaps in the systematic return of veterans into civilian life and even more so while they are pursuing a higher education. Focusing on a veteran’s choice to continue pursuing higher education, we can see that many educational institutions are still lacking resources and persons of contact that veterans can use to help them succeed. <br>\n",
    "&emsp;&emsp;There are many systematic inequities that can hinder American veterans from successfully returning to civilian life. From demographic differences, such as race and gender, to the struggles of dealing with a multitude of mental health issues, sometimes it can be too difficult to concentrate on pursuing an education when a veteran must first worry about insurance or unemployment. While there are educational benefits for veterans, such as the GI Bill and VA Education Benefits, only around “one-third of [post-9/11 veterans] were using the Post-9/11 GI Bill [and] approximately 16% were using other educational benefits” (Morgan et. al, 2023).  With such low usage of these educational benefits, the system should be updated to reach out to more veterans who may or may not know that these benefits are even in place.  \n",
    "&emsp;&emsp;Once veterans make the decision to continue their education, there are not enough resources at every educational institution to help veterans succeed and finish their degrees. With the data from 2019, if we see that most people with higher education are less likely to be veterans, we can find solutions to reform the system currently in place to allow for more veterans to continue and finish their education as compared to nonveterans. \n",
    "\n",
    "\n",
    "## Literature Review\n",
    "\n",
    "**Literature Review 1**<br>\n",
    "Borsari, Brian et al. “Student service members/veterans on campus: Challenges for reintegration.” <i>The American journal of  <br>&emsp;&emsp; orthopsychiatry</i> vol. 87,2 (2017): 166-175. https://www.ncbi.nlm.nih.gov/pmc/articles/PMC5319708/.\n",
    "\n",
    "&emsp;&emsp;In the realm of higher education, student service members and veterans (SSM/Vs) are navigating a landscape fraught with unique challenges, as highlighted by the literature. Despite the important uptake of the Post-9/11 GI Bill, with \"over 800,000 SSM/Vs\" enrolled, their journey is beleaguered by academic and social hurdles that their civilian peers seldom encounter. The literature is candid in disclosing that the path to degree completion for SSM/Vs is slower and more precarious, susceptible to the \"exploitation by for-profit institutions,\" and marred by an increased prevalence of extreme-risk behaviors and mental health issues, that in turn, \"contribute to academic difficulties and social isolation. (Bosari et. al, 2017)”\n",
    "<br>&emsp;&emsp;The transition from a very structured military life to the less regimented academic environment presents SSM/Vs to a new kind of battle, one where the hierarchical learning and rigid training of military service are in stark contrast to the collegiate landscape. This separation not only impacts their academic adjustment, where \"[v]eteran status is negatively associated with GPA,\" but also their ability to integrate socially, leaving many veterans to grapple with their identities and how they are seen on campus (Bosari et. al, 2017).\n",
    "<br>&emsp;&emsp;The available interventions, although well-intentioned, lack rigorous evaluative foundation to measure their impact effectively. As the literature suggests, there is a clear deficit in \"theoretically-based programs\" that could holistically address the SSM/Vs’ complex needs (Bosari et. al, 2017). The current strategies, from specialized tutoring counseling services, show initial steps towards supporting SSM/Vs but require critical appraisal to ensure they are meeting the nuanced needs of this demographic. \n",
    "All in all, the literature serves as a call for a more analytical and responsive approach to SSM/V integration in higher education, underscoring the need for evidence-based practices. As SSM/V continue to bridge their military experiences with academic aspirations, the educational system's adaptability and supportiveness are paramount, a sentiment echoed by the researchers who recognize the potential of SSM/Vs to enrich the academic tapestry if given appropriate support. \n",
    "\n",
    "**Literature Review 2**<br>\n",
    "Wang, Lin et al. “Status Configurations, Military Service and Higher Education.” <i>Social forces; <br>&emsp;&emsp;a scientific medium of social study and interpretation </i>vol. 91,2 (2012): 397-422. <br>&emsp;&emsp;https://www.ncbi.nlm.nih.gov/pmc/articles/PMC3908479/.\n",
    "\n",
    "&emsp;&emsp;Titled “Status Configurations, Military Service and Higher Education”, Lin Wang, Glen H. Elder Jr., and Naomi J. Spence's publication offers a fascinating examination of how military service functions as a form of social leverage, specifically for young men facing status inconsistency—where their socioeconomic background, cognitive abilities, and academic accomplishments do not align. Delving into the National Longitudinal Study of Adolescent Health data, the study sheds light on the military's potential to act as an equalizer in society. It highlights the fact that 12% of the survey's respondents have served in the military, suggesting that military service is a major influence on the trajectories of a notable subset of young Americans. This is particularly true for those with powerful cognitive potential but less impressive academic records, who see the military as a means to access educational opportunities and benefits that could pivot their life's trajectory toward success.\n",
    "<br>&emsp;&emsp;The study depicts the military as an institution that stretches beyond its traditional defense role, serving instead as a strategic avenue for individuals to rectify the conflicting aspects of their social standing. By providing educational benefits, the military presents itself as a road to alleviate the \"adaptive stress\" associated with status inconsistency (Hornung, 1977), offering a sort of compensatory redemption for \"underachievers.\" This proactive engagement with the military aligns with a more extensive narrative of striving to reconcile one's innate potential with the academic and social accolades they have yet to attain.\n",
    "<br>&emsp;&emsp;However, the distribution of these educational benefits is not uniform across all social strata. The research uncovers that while the likelihood of attaining higher education through military service is heightened, the probability decreases for those hailing from the most disadvantaged backgrounds when it comes to securing a four-year degree. It delineates a complex interplay between individual status dimensions and the varying efficacies of military benefits, illuminating a tiered system where the military's role as an educational catalyst is conditional upon the socioeconomic landscape from which an individual emerges. \n",
    "<br>&emsp;&emsp;Collectively, the article presents military enlistment as a planned maneuver within the calculated game of social mobility. It underscores the military's two-fold capacity—as an esteemed national institution on one hand and as a sensible launchpad for personal and social progress on the other. This versatile role of the military as both a bastion of honor and a pragmatic vehicle for educational and socioeconomic progress is central to understanding the intricacies of how military service is spun into the fabric of American life, influencing the social architecture far beyond the bounds of established defense parameters.\n",
    "\n",
    "**Literature Review 3**<br>\n",
    "Li, Xiaoxue. “Improving the Labor Market Outcomes of US Veterans: The Long-Run Effect of <br>&emsp;&emsp;the Transition Assistance Program.” <i>Defence and Peace Economics</i>, vol. 31, no.1, 2020, <br>&emsp;&emsp;pp. 48-69, https://doi.org/10.1080/10242694.2018.1532229.\n",
    "\n",
    "&emsp;&emsp;Xiaoxue Li’s 2018 article, “Improving the Labor Market Outcomes of US Veterans: The Long-Run Effect of the Transition Assistance Program”, examines a short, multi day career assistance program called the Transition Assistance Program (TAP). TAP is offered to veterans, and serves to reorient veterans to civilian hiring practices. The relevant aspect of Li’s article is not her main analysis, which examines the effectiveness of TAP in helping veterans transition to the civilian labor market. For our final project, the relevant analysis comes from Li’s explanation of how part of TAP’s effectiveness is derived from the GI Bills, as well as her commentary on veteran benefits and historical context.\n",
    "<br>&emsp;&emsp;The main finding in the article is that TAP has done a good job getting veterans civilian jobs. Alongside that assertion, and more importantly for our final project, Li writes, “One potential mechanism is that TAP increased veterans’ use of VA educational benefits, namely the GI Bill. I find that TAP increased veterans obtaining some college education by 9.7 percentage points” (Li 65).\n",
    "<br>&emsp;&emsp;Throughout the history of the United States, Congress has passed laws upholding a wide range of special benefits for veterans. Simply put, military service in itself is not attractive enough – for the Department of Defense to meet national security needs, it must sweeten the pot. Educational benefits for veterans, part of the pot-sweetening, are mainly derived from the GI Bills. Veterans that qualify can have all or part of their tuition paid for, a monthly allowance, and money for books and other supplies. Education for a degree and training programs both qualify for these forms of reimbursement.\n",
    "The effectiveness of GI Bills are limited by an imperfect awareness of the existence of their benefits. Li noted that TAP increased the overall level of education for veterans. The main reason, Li postulated, was that TAP increased veterans’ awareness of the educational benefits available, and thus increased use of the GI Bills. On a similar note, TAP increased the number of veterans who sought to continue their education.\n",
    "<br>&emsp;&emsp;Besides increasing the attractiveness of military service, there are a number of other pressures that push the U.S. government to establish education benefits for veterans. Not all skills in the military are transferable to the civilian world. Li writes, “15 percent of enlisted personnel work as members of combat units. Their training involves skills to ‘maneuver against enemy forces and positions and fire artillery, guns, mortars, or missiles to destroy those positions’” (Li 51). Additionally, instead of being a policy useful for recruitment, educational benefits can also be used during times of downsizing.\n",
    "<br>&emsp;&emsp;Regardless of whether our project ultimately shows that veterans are more likely or less likely to obtain higher education, Li’s research points towards the fact that the U.S. government has, throughout history, has made education attainment more accessible for veterans.\n",
    "\n",
    "**Literature Review 4**<br>\n",
    "Barr, Andrew. “Fighting for Education: Financial Aid and Degree Attainment.” <i>Journal of Labor <br>&emsp;&emsp;Economics</i>, vol. 37, no. 2, 2019, pp. 509-544, https://doi.org/10.1086/700191.\n",
    "\n",
    "&emsp;&emsp;Andrew Barr’s 2019 article “Fighting for Education: Financial Aid and Degree Attainment” studies the impact of financial aid on degree attainment as a whole. Barr exploits variation caused by the Post-9/11 GI Bill, which raised government spending on benefits from \\\\$3 billion to \\\\$13 billion.\n",
    "<br>&emsp;&emsp;Barr gained access to the basic demographic information of 4 million service members through the Defense Manpower Data Center (DMDC). This information was paired with college data from the National Student Clearinghouse (NSC). \n",
    "<br>&emsp;&emsp;Barr concluded that the Post-9/11 GI Bill “increased degree attainment by 5–6 percentage points…” (Barr 509). Those 5–6 points mean degree attainment increased by more than 25%. In a statement quite relevant to our research question, Barr notes that the U.S. military is “the nation's largest employer of young adults” (510), and that it “markets itself as providing educational opportunities to youth who might not otherwise have the means to pay for college…” (510). Barr also notes that veterans are different from the general population of college students – for example, they are older. Additionally, veterans have a different reason for attending college, as they do it to transition between occupations.\n",
    "<br>&emsp;&emsp;In a more general sense, zooming out from an examination of veterans, the author believes that financial aid will have even more of a positive impact on the general population. This is because, before the Post-9/11 Bill, veterans already received a comparatively hefty amount of financial aid, and are experiencing diminishing marginal returns.\n",
    "\n",
    "**Literature Review 5**<br>\n",
    "Morgan, N. R., Aronson, K. R., McCarthy, K. J., Balotti, B. A., & Perkins, D. F. (2023). <br>&emsp;&emsp;Post-9/11 Veterans’ Pursuit and Completion of Post-secondary Education: Social <br>&emsp;&emsp;Connection, Mental Health, and Finances. <i>Journal of Education</i>, 0(0). <br>&emsp;&emsp;https://doi.org/10.1177/00220574231168638.\n",
    "\n",
    "&emsp;&emsp;This study researched the transition of 48,965 post-9/11 veterans from active duty to civilian life, and later higher education, and the barriers they may have faced. Morgan et. al first began by describing the hardships that many veterans experience when they transition back to civilian life. Higher rates of traumatic exposure and mental health are the ones most civilians think of first, but the physical disabilities, the potential for unemployment and living in worse conditions compared to nonveterans, and the difficulty balancing between different life directions also plague many veterans. Morgan et. al found that there were already inequities in place that inhibited certain demographic groups from completing a higher education degree, but that there were also positive predictors to educational attainment, most notably, the participation in veterans’ centers and veteran student organizations. \n",
    "<br>&emsp;&emsp;The surveyed veterans were split into 7 Waves of groups and then further separated by demographics: age, sex, race/ethnicity, paygrade, and military occupation. They were then analyzed by the degrees they were pursuing, whether they were full or part time students, exposure to veteran-focused services, and whether or not they left higher education. The majority of their analysis came from veterans from enlisted ranks because they saw that officers often have college degrees before entering the military. However, most veterans from enlisted ranks usually only had a high school education and no exposure to higher education (Morgan et. al, 2023) and so they focused on enlisted ranks a little bit more closely. \n",
    "<br>&emsp;&emsp;The results from the study included statistics on the demographics of veterans that completed and did not complete their higher education, the reasons veterans left higher education, and the exposure of veteran groups while in school. Morgan et. al saw that 9% of veterans left school to pursue other activities and that 5% decided to leave because of academic problems or problematic financial status. They also highlighted that veterans who showed probable depressive symptoms were 3.03 times more likely to leave school due to academic concerns compared to veterans who did not meet those criteria (Morgan et. al, 2023). A positive result that the authors highlighted was that post-9/11 veterans who utilized a veterans’ center were 94% more likely to attain a degree and those who used a veteran-student organization were 97% more likely to attain a degree (Morgan et. al, 2023). \n",
    "<br>&emsp;&emsp;The authors continue on by discussing that one way to help post-9/11 veterans on their educational journey is by providing specialized outreach and clinical services to and especially for female veterans, veterans of color, and veterans from the enlisted ranks (Morgan et. al, 2023). This study hypothesized that, because veteran students are demographically, culturally, and experientially different than other students, their need for integration into institutions of higher education is critical and because this field is so understudied they hope that future studies also focus on how higher education-based veteran support groups help not only educational attainment, but also mental health, social functioning, and future employability (Morgan et. al 2023). \n",
    "\n",
    "**Literature Review 6** <br>\n",
    "Semer, Claire and Harmening, Debra S. “Exploring Significant Factors that Impact the Academic <br>&emsp;&emsp;Success of Student Veterans in Higher Education.” <i>Journal of Higher Education Theory <br>&emsp;&emsp;and Practice</i>, vol.15(7), 2015, pp. 31-43. <br>&emsp;&emsp;http://www.na-businesspress.com/JHETP/SemerC_Web15_7_.pdf. \n",
    "\n",
    "&emsp;&emsp;Semer and Harmening’s study focused on identifying which factors could best help student veterans succeed academically. They began first by describing how many universities, as well as society, are unaware of the difficulties of student veterans transitioning into their first year at university. Because veterans are usually older than traditional college freshman, and many times they are married and have different life experiences up until that point, these authors hope to establish that veterans are a very unique and understudied group of students (Semer and Harmening, 2015). By surveying 4,000 first-year veterans attending colleges and universities in the state of Ohio, the researchers addressed six different questions: what demographic characteristics, institutional characteristics, academic involvements, faculty-to-student interactions, student-to-student interactions, and co-curricular involvements could impact a student veteran’s academic success? \n",
    "<br>&emsp;&emsp;The first question is mostly resolved describing the systematic inequities in place that could inhibit certain student veterans from performing well or even finishing their degree. They continue to describe the second research question and that the differences between institutions, mainly between public and private institutions, could also benefit or inhibit certain students. But mostly, they describe that some institutions label themselves as “veteran friendly” or “military friendly” but fail to retain many student veterans as a result of inadequate support (Semer and Harmening, 2015). An interesting statistic comes from the research question regarding faculty-student interactions. When student veterans received oral feedback from faculty members about their academic performance, there was a significant positive predictor on their academic success (Semer and Harmening, 2015). However, when student veterans talked to faculty members about their career aspirations, there was a statistically significant negative indicator of the student veterans’ academic success. The researchers believe that this can be attributed to a new period of exploration and indecisiveness a student veteran could be experiencing negatively impact their grades because of their reality of not living up to their own aspirations. Other results included how exercising was a positive predictor of veterans’ academic success, time spent commuting to class was a significant negative indicator of a veterans’ academic success, and how a higher number of enrolled credit hours are a negative indicator for a student veterans’ GPA (Semer and Harmening, 2015). \n",
    "<br>&emsp;&emsp;The researchers conclude with two recommendations regarding student veteran transition and involvement; the first is to “make data-driven decisions when determining the best options for assisting student veterans” and make sure that colleges and universities understand its their responsibility to help student veterans adjust their lifestyle. The second is to create a transition programming for student veterans regarding their career path, more specifically a veteran-specific orientation to campus resources and activities that could help ease the transition into civilian and university life. “The results of this study suggested that student veterans do not desire special treatment but rather a sense that faculty members appreciate their circumstances, including family obligations, work obligations, and academic challenges” (Semer and Harmening, 2015). \n",
    "\n",
    "**Literature Review 7**<br>\n",
    "Huyser, K.R., and Locklear, S. \"Examining the Association Between Veteran Status and <br>&emsp;&emsp;Socioeconomic Status Among American Indian and Alaska Native Men in the \n",
    "<br>&emsp;&emsp;USA.\" <i>Journal of Economics and Race Policy</i>, vol. 5, 2022, pp. 167–180. \n",
    "<br>&emsp;&emsp;https://ideas.repec.org/a/spr/joerap/v5y2022i3d10.1007_s41996-022-00101-z.html.\n",
    "\n",
    "&emsp;&emsp;“Examining the Association Between Veteran Status and Socioeconomic Status Among American Indian and Alaska Native Men in the USA” by Huyser and Locklear examines a specific demographic to determine whether military service and subsequent access to benefits associated with military training and veterans benefits offers a method of social mobility for American Indian and Alaska Native Men (AIAN). Utilizing IPUMS data consisting of a sample of “American Indian, Alaska Native, and non-Hispanic white men between the ages of 22 and 83” and examining in particular single-race AIAN active-duty veterans serving between 1975 and 2001 and non-veterans, the authors do find that veteran status is associated with greater rates of higher education (at least a bachelor's degree) compared to non-veteran counterparts within the sample. They also find that veterans tended to have higher incomes, but such gains in income were insufficient in closing the income gap between AIAN and white men.\n",
    "<br>&emsp;&emsp;The authors formed these conclusions based on a “logistic regression of whether an individual holds a bachelor’s degree and OLS regression on logged total income.” The authors cite an interesting idea where military service may be seen as a social mobility opportunity (a way to increase wealth and socioeconomic status). It would be very interesting to see how much of a role this factor, including GI education benefits, plays in individuals from marginalized groups deciding to serve as veterans compared to other wealthier demographics. While my hypothesis is that AIAN men would place a heavier emphasis on education, it would also be interesting to see veteran attitudes towards education by race and other demographics.\n",
    "\n",
    "**Literature Review 8**<br>\n",
    "Lennon, Conor. “G.I. Jane Goes to College? Female Educational Attainment, Earnings, and the <br>&emsp;&emsp;Servicemen’s Readjustment Act of 1944.” <i>The Journal of Economic History </i> 81.4 (2021): <br>&emsp;&emsp;1223–1253. https://doi.org/10.1017/S0022050721000425.\n",
    "\n",
    "&emsp;&emsp;In an examination of the legacy of the 1944 Servicemen’s Readjustment Act (more famously known as the “G.I. Bill”), Lennon provides a glimpse into its effect on the 330,000 female WWII veterans. The bill, passed to facilitate the reintegration of veterans into society, provided a large range of benefits, including tuition payments for higher education, unemployment assistance, and other financial benefits. Controlling for the period of time served in the war (to separate the effect of military service itself from the G.I. Bill effects), the author finds that “female WWII veteran status is associated with a 19 percentage point increase in the proportion who report any college attendance, a 7.8 percentage point increase in college completion, and earnings that are 19.8 percent greater relative to comparable females who are not veterans.” The author also found that the educational benefits from the G.I. Bill alone offered 73% explainability “of the overall difference between veteran and non-veteran females’ earnings in 1980” with an 11.6% increase in earnings “per year of  G.I. Bill-induced education.” The G.I. Bill from 1944 has faced historical criticism for discrimination and widening the income gap between blacks and whites. Although black veterans were officially entitled to the same benefits, they faced discrimination in trying to claim such benefits. It would be interesting to see how benefits from the GI Bill compares not only across genders but also race demographics (e.g. White, African American, Japanese, etc.). Although the original GI Bill is not in effect, it would be interesting to compare the original bill to its current counterpart: The Post-9/11 GI Bill (otherwise known as the Post-9/11 Veterans Educational Assistance Act of 2008).\n",
    "\n",
    "## Data\n",
    "\n",
    "&emsp;&emsp;Our data is sourced from IPUMS, which stands for “Integrated Public Use Microdata Series”. While this project by the University of Minnesota has expanded beyond that acronym, for our use, it is accurate. IPUMS provides collections of microdata for free (IPUMS). Microdata is data that displays responses from each specific individual or household. More specifically, we used IPUMS USA, a division of IPUMS that provides data from the U.S. Census and the American Community Survey (IPUMS USA).<br>&emsp;&emsp;VETSTAT is our first variable of interest – it is being used to indicate whether an individual is a veteran or not. It is a categorical variable, with 0 indicating “N/A”, 1 indicating “Not a veteran”, 2 indicating “Veteran”, and 9 indicating “Unknown”. We used this data to create a dummy variable, where 0 corresponds to non-veteran status and 1 corresponds to veteran status. Codes 0 and 9 were dropped.\n",
    "<br>&emsp;&emsp;Simply put, an individual has veteran status if they, in the past, served in active duty in any branch of the U.S. military – namely, the Army, Navy, Air Force, Marine Corps, or Coast Guard. Their service may be for any length of time and may be served anywhere. They cannot presently be on active duty. Civilian employment in bureaucracies related to war, like the Department of Defense, does not count towards veteran status. Additionally, service in the Merchant Marines is only counted if the service was during World War II. Lastly, service in another country’s military is not counted. Non-veteran status typically either indicates that the individual never served, or that they are currently on active duty.\n",
    "<br>&emsp;&emsp;The data is sourced from the American Community Survey, a nationwide survey conducted by the U.S. Census Bureau.\n",
    "<br>&emsp;&emsp;EDUC is the second variable of interest – it shows the individual’s highest year of education. It is also a categorical variable. Data for this variable is also sourced from the American Community Survey. Nursery school to 4th grade are grouped together, and so is 5th grade to 8th grade. Beyond that, grades are indicated individually until the 5th year of college – subsequent years of higher education are grouped under “5+ years of college”. Interestingly, the code “00” denotes both no schooling and “N/A”.\n",
    "<br>&emsp;&emsp;From this data, two dummy variables were created to organize the individuals into those who graduated high school and those who graduated college. In the variable “HS”, anyone who attained education in Grade 12 or higher would be marked with a 1, and those without a 0. Similarly, in the variable “College”, a 1 is awarded to those with four years of college or more. Those without receive a 0.<br>&emsp;&emsp;Three demographic variables were also examined: age, race, and gender. From IPUMS, race is coded as such: 1 for White, 2 for Black/African American, 3 for American Indian or Alaska Native, 4 for Chinese, 5 for Japanese, 6 for “Other Asian or Pacific Islander”, 7 for “Other race”, 8 for two major races, and 9 for 3+ major races. Ultimately, the race codes were organized into three dummy variables: 1 for white and 0 for not white, 1 for black and 0 for not black, and 1 for other and 0 for white or black. Individuals who indicated that they were multiple races or a race not listed are grouped as “Other” in our data.<br>&emsp;&emsp;In the IPUMS variable “Sex”, 1 indicates male and 2 indicates female. This was translated to 0 for male and 1 for female in the dummy variable “Is_Female”.<br>&emsp;&emsp;As for age, each code corresponds to its age, up to 96 years. As in, a code of 050 would correspond to 50 years. 000 corresponds to an age less than one year old. 999, “Missing”, was dropped. Age data was also cleaned to eliminate anyone younger than 25 years, the age in which we determined a solid majority of people have finished their education. Data gathered by the U.S. Census Bureau and the Bureau of Labor Statistics through the Current Population Survey shows that, in 2022, the proportion of people enrolled in school drops drastically starting from ages 16 to 17, and by ages 25 to 29 dips to 10.7% (U.S. Census Bureau; Korhonen).\n",
    "\n",
    "## Works Cited\n",
    "Barr, Andrew. “Fighting for Education: Financial Aid and Degree Attainment.” Journal of Labor Economics, vol. 37, no. 2, 2019, pp. 509-544\t,<br>https://doi.org/10.1086/700191. Accessed 27 March 2024.\n",
    "\n",
    "Borsari, Brian et al. “Student service members/veterans on campus: Challenges for reintegration.” The American journal of orthopsychiatry vol. 87,2 (2017): 166-175. https://www.ncbi.nlm.nih.gov/pmc/articles/PMC5319708/\n",
    "\n",
    "Braye, KaMaria. “U.S. Military Sees Record Breaking Low Recruitment Numbers.” WAVY.Com, WAVY.com, 27 Dec. 2023, www.wavy.com/news/military/u-s-military-sees-record-breaking-low-recruitment-numbers/   \n",
    "\n",
    "Huyser, K.R., and Locklear, S. \"Examining the Association Between Veteran Status and  \n",
    "Socioeconomic Status Among American Indian and Alaska Native Men in the \n",
    "USA.\" Journal of Economics and Race Policy, vol. 5, 2022, pp. 167–180. \n",
    "https://ideas.repec.org/a/spr/joerap/v5y2022i3d10.1007_s41996-022-00101-z.html.\n",
    "IPUMS. “Mission & Purpose.” https://www.ipums.org/mission-purpose. IPUMS Center for Data  Integration. Accessed 15 April 2024.\n",
    "IPUMS. “Mission & Purpose.” https://www.ipums.org/mission-purpose. <i>IPUMS Center for Data <br>&emsp;&emsp;Integration</i>. Accessed 15 April 2024.<br>\n",
    "\n",
    "IPUMS USA. “U.S. Census Data for Social, Economic, and Health Research.” <i>IPUMS Center for Data <br>&emsp;&emsp;Integration</i>, https://usa.ipums.org/usa/. Accessed 15 April 2024.\n",
    "\n",
    "Korhonen, Veera. \"Share of Population Enrolled in Primary and Secondary Education in the<br>&emsp;&emsp;United States in 2022, by Age Group.\" <i>Statista</i>, 11 Oct. 2023,<br>&emsp;&emsp;https://www.statista.com/statistics/236087/us-school-enrollment-rates-by-age-group/.\n",
    "\n",
    "Lennon, Conor. “G.I. Jane Goes to College? Female Educational Attainment, Earnings, and the <br>&emsp;&emsp;Servicemen’s Readjustment Act of 1944.” The Journal of Economic History 81.4 (2021): <br>&emsp;&emsp;1223–1253. Web.\n",
    "\n",
    "Li, Xiaoxue. “Improving the Labor Market Outcomes of US Veterans: The Long-Run Effect of the Transition Assistance Program.” Defence and Peace Economics, vol. 31, no.1, 2020, pp. 48-69, https://doi.org/10.1080/10242694.2018.1532229. Accessed 25 March 2024. \n",
    "\n",
    "Morgan, N. R., Aronson, K. R., McCarthy, K. J., Balotti, B. A., & Perkins, D. F. (2023). Post-9/11 Veterans’ Pursuit and Completion of Post-secondary Education: Social Connection, Mental Health, and Finances. Journal of Education, 0(0). https://doi.org/10.1177/00220574231168638 \n",
    "U.S. Census Bureau. “Current Population Survey (CPS).” <br>&emsp;&emsp;https://www.census.gov/programs-surveys/cps.html. \n",
    "\n",
    "US Navy No Longer Requires High School Diploma to Enlist | Cbs8.Com, <br>&emsp;&emsp;www.cbs8.com/article/news/national/military-news/navy-no-longer-requiring-high-school-<br>&emsp;&emsp;diploma/509-ec99e7e4-c9c8-4312-820f-72e2d09580d4. <br>\n",
    "\n",
    "Semer, Claire and Harmening, Debra S. “Exploring Significant Factors that Impact the Academic Success of Student Veterans in Higher Education.” Journal of Higher Education Theory and Practice, vol.15(7), 2015, pp. 31-43. http://www.www.na-businesspress.com/JHETP/SemerC_Web15_7_.pdf \n",
    "\n",
    "Statista. “Employment rate in the United States from 2000 to 2023, by age.” Statista, https://www.statista.com/statistics/217899/us-employment-rate-by-age/. \n",
    "\n",
    "US Navy No Longer Requires High School Diploma to Enlist | Cbs8.Com, www.cbs8.com/article/news/national/military-news/navy-no-longer-requiring-high-school-diploma/509-ec99e7e4-c9c8-4312-820f-72e2d09580d4 .  \n",
    "\n",
    "Wang, Lin et al. “Status Configurations, Military Service and Higher Education.” Social forces; a scientific medium of social study and interpretation vol. 91,2 (2012): 397-422. https://www.ncbi.nlm.nih.gov/pmc/articles/PMC3908479/\n",
    "\n",
    "Wunderlich, Annelise. “Should the U.S. Military Recruit on High School Campuses?” KQED, 30 Mar. 2023, www.kqed.org/education/536448/should-the-u-s-military-recruit-on-high-school-campuses.\n"
   ]
  },
  {
   "cell_type": "code",
   "execution_count": 1,
   "metadata": {},
   "outputs": [
    {
     "name": "stdout",
     "output_type": "stream",
     "text": [
      "Requirement already satisfied: seaborn in c:\\users\\alexa\\anaconda3\\lib\\site-packages (0.13.2)\n",
      "Requirement already satisfied: numpy!=1.24.0,>=1.20 in c:\\users\\alexa\\anaconda3\\lib\\site-packages (from seaborn) (1.25.1)\n",
      "Requirement already satisfied: pandas>=1.2 in c:\\users\\alexa\\anaconda3\\lib\\site-packages (from seaborn) (2.1.4)\n",
      "Requirement already satisfied: matplotlib!=3.6.1,>=3.4 in c:\\users\\alexa\\anaconda3\\lib\\site-packages (from seaborn) (3.8.0)\n",
      "Requirement already satisfied: contourpy>=1.0.1 in c:\\users\\alexa\\anaconda3\\lib\\site-packages (from matplotlib!=3.6.1,>=3.4->seaborn) (1.2.0)\n",
      "Requirement already satisfied: cycler>=0.10 in c:\\users\\alexa\\anaconda3\\lib\\site-packages (from matplotlib!=3.6.1,>=3.4->seaborn) (0.11.0)\n",
      "Requirement already satisfied: fonttools>=4.22.0 in c:\\users\\alexa\\anaconda3\\lib\\site-packages (from matplotlib!=3.6.1,>=3.4->seaborn) (4.25.0)\n",
      "Requirement already satisfied: kiwisolver>=1.0.1 in c:\\users\\alexa\\anaconda3\\lib\\site-packages (from matplotlib!=3.6.1,>=3.4->seaborn) (1.4.4)\n",
      "Requirement already satisfied: packaging>=20.0 in c:\\users\\alexa\\anaconda3\\lib\\site-packages (from matplotlib!=3.6.1,>=3.4->seaborn) (23.1)\n",
      "Requirement already satisfied: pillow>=6.2.0 in c:\\users\\alexa\\anaconda3\\lib\\site-packages (from matplotlib!=3.6.1,>=3.4->seaborn) (10.2.0)\n",
      "Requirement already satisfied: pyparsing>=2.3.1 in c:\\users\\alexa\\anaconda3\\lib\\site-packages (from matplotlib!=3.6.1,>=3.4->seaborn) (3.0.9)\n",
      "Requirement already satisfied: python-dateutil>=2.7 in c:\\users\\alexa\\anaconda3\\lib\\site-packages (from matplotlib!=3.6.1,>=3.4->seaborn) (2.8.2)\n",
      "Requirement already satisfied: pytz>=2020.1 in c:\\users\\alexa\\anaconda3\\lib\\site-packages (from pandas>=1.2->seaborn) (2023.3.post1)\n",
      "Requirement already satisfied: tzdata>=2022.1 in c:\\users\\alexa\\anaconda3\\lib\\site-packages (from pandas>=1.2->seaborn) (2023.3)\n",
      "Requirement already satisfied: six>=1.5 in c:\\users\\alexa\\anaconda3\\lib\\site-packages (from python-dateutil>=2.7->matplotlib!=3.6.1,>=3.4->seaborn) (1.16.0)\n",
      "Note: you may need to restart the kernel to use updated packages.\n",
      "Name: seaborn\n",
      "Version: 0.13.2\n",
      "Summary: Statistical data visualization\n",
      "Home-page: \n",
      "Author: \n",
      "Author-email: Michael Waskom <mwaskom@gmail.com>\n",
      "License: \n",
      "Location: c:\\users\\alexa\\anaconda3\\lib\\site-packages\n",
      "Requires: matplotlib, numpy, pandas\n",
      "Required-by: \n",
      "Note: you may need to restart the kernel to use updated packages.\n"
     ]
    }
   ],
   "source": [
    "%pip install seaborn --upgrade\n",
    "%pip show seaborn"
   ]
  },
  {
   "cell_type": "code",
   "execution_count": 2,
   "metadata": {},
   "outputs": [],
   "source": [
    "import pandas as pd\n",
    "import matplotlib.pyplot as plt\n",
    "from matplotlib.colors import LogNorm\n",
    "import matplotlib.patches as mpatches\n",
    "import matplotlib.ticker as mtick\n",
    "import seaborn as sns\n",
    "import os\n",
    "import numpy as np"
   ]
  },
  {
   "cell_type": "code",
   "execution_count": 3,
   "metadata": {},
   "outputs": [],
   "source": [
    "pd.options.display.float_format = '{:,.2f}'.format"
   ]
  },
  {
   "cell_type": "code",
   "execution_count": 4,
   "metadata": {},
   "outputs": [],
   "source": [
    "data_path = \"Data\"\n",
    "\n",
    "df = pd.read_csv(os.path.join(data_path,\"usa_00002.csv.gz\"))"
   ]
  },
  {
   "cell_type": "code",
   "execution_count": 5,
   "metadata": {},
   "outputs": [
    {
     "data": {
      "text/plain": [
       "Index(['YEAR', 'SAMPLE', 'SERIAL', 'CBSERIAL', 'HHWT', 'CLUSTER', 'STRATA',\n",
       "       'GQ', 'PERNUM', 'PERWT', 'SEX', 'AGE', 'RACE', 'RACED', 'EDUC', 'EDUCD',\n",
       "       'VETSTAT', 'VETSTATD'],\n",
       "      dtype='object')"
      ]
     },
     "execution_count": 5,
     "metadata": {},
     "output_type": "execute_result"
    }
   ],
   "source": [
    "df.columns"
   ]
  },
  {
   "cell_type": "code",
   "execution_count": 6,
   "metadata": {},
   "outputs": [
    {
     "data": {
      "text/plain": [
       "RangeIndex(start=0, stop=3239553, step=1)"
      ]
     },
     "execution_count": 6,
     "metadata": {},
     "output_type": "execute_result"
    }
   ],
   "source": [
    "df.index\n"
   ]
  },
  {
   "cell_type": "code",
   "execution_count": 7,
   "metadata": {},
   "outputs": [],
   "source": [
    "data = df[['AGE','EDUC','VETSTAT','RACE','SEX']]"
   ]
  },
  {
   "cell_type": "code",
   "execution_count": 8,
   "metadata": {},
   "outputs": [
    {
     "name": "stdout",
     "output_type": "stream",
     "text": [
      "<class 'pandas.core.frame.DataFrame'>\n",
      "RangeIndex: 3239553 entries, 0 to 3239552\n",
      "Data columns (total 5 columns):\n",
      " #   Column   Dtype\n",
      "---  ------   -----\n",
      " 0   AGE      int64\n",
      " 1   EDUC     int64\n",
      " 2   VETSTAT  int64\n",
      " 3   RACE     int64\n",
      " 4   SEX      int64\n",
      "dtypes: int64(5)\n",
      "memory usage: 123.6 MB\n"
     ]
    }
   ],
   "source": [
    "data.info()"
   ]
  },
  {
   "cell_type": "markdown",
   "metadata": {},
   "source": [
    "## Data Cleaning and Preprocessing"
   ]
  },
  {
   "cell_type": "markdown",
   "metadata": {},
   "source": [
    "### Age"
   ]
  },
  {
   "cell_type": "code",
   "execution_count": 9,
   "metadata": {},
   "outputs": [
    {
     "data": {
      "text/plain": [
       "96"
      ]
     },
     "execution_count": 9,
     "metadata": {},
     "output_type": "execute_result"
    }
   ],
   "source": [
    "data['AGE'].max() # Check if we have 999 missing code"
   ]
  },
  {
   "cell_type": "code",
   "execution_count": 10,
   "metadata": {},
   "outputs": [],
   "source": [
    "# Drop all with education below 25\n",
    "data = data[data['AGE'] >= 25]"
   ]
  },
  {
   "cell_type": "markdown",
   "metadata": {},
   "source": [
    "### Race (Before)\n",
    "- 1: White\n",
    "- 2: Black/African American\n",
    "- 3: American Indian or Alaska Native\n",
    "- 4: Chinese\n",
    "- 5: Japanese\n",
    "- 6: Other Asian or Pacific Islander\n",
    "- 7: Other race, nec\n",
    "- 8: Two major races\n",
    "- 9: Three or more major races\n",
    "### Race Conversion to Dummy Variables \"White\", \"Black\", and \"Other\"\n",
    "- White/not white: 1 if white, else 0\n",
    "- Black/not black: 1 if black/African American, else 0\n",
    "- Other/not other: 1 if not white or black, else 0"
   ]
  },
  {
   "cell_type": "code",
   "execution_count": 11,
   "metadata": {},
   "outputs": [],
   "source": [
    "data['WHITE'] = data['RACE'].map(lambda x: 1 if x == 1 else 0)\n",
    "data['BLACK'] = data['RACE'].map(lambda x: 1 if x == 2 else 0)\n",
    "data['OTHER'] = data['RACE'].map(lambda x: 1 if x > 2 else 0)"
   ]
  },
  {
   "cell_type": "markdown",
   "metadata": {},
   "source": [
    "### Gender (Raw IPUMs Codes)\n",
    "- 1: Male\n",
    "- 2: Female\n",
    "### Gender (Updated)\n",
    "- 0: Male\n",
    "- 1: Female"
   ]
  },
  {
   "cell_type": "code",
   "execution_count": 12,
   "metadata": {},
   "outputs": [],
   "source": [
    "data['IS_FEMALE'] = data['SEX'].map(lambda x: 1 if x == 2 else 0)"
   ]
  },
  {
   "cell_type": "markdown",
   "metadata": {},
   "source": [
    "### VETSTAT (Raw IPUMs Codes)\n",
    "- 0: N/A\n",
    "- 1: Not a veteran\n",
    "- 2: Is a veteran\n",
    "- 9: Unknown\n",
    "\n",
    "### VETSTAT (Updated)\n",
    "- 0: Not a veteran\n",
    "- 1: Is a veteran"
   ]
  },
  {
   "cell_type": "code",
   "execution_count": 13,
   "metadata": {},
   "outputs": [],
   "source": [
    "# Remove VETSTAT codes 0 (N/A) and 9 (unknown)\n",
    "data = data[~data['VETSTAT'].isin(set([0,9]))] # Remove people not qualified to serve as a veteran by AGE or other reasons"
   ]
  },
  {
   "cell_type": "code",
   "execution_count": 14,
   "metadata": {},
   "outputs": [],
   "source": [
    "# Code VETSTAT to dummy variables\n",
    "vetstat_conversion = {1:0, 2:1}\n",
    "if 2 in data['VETSTAT'].values: # prevent double run\n",
    "    data['VETSTAT'] = data['VETSTAT'].apply(lambda x: vetstat_conversion[x])"
   ]
  },
  {
   "cell_type": "markdown",
   "metadata": {},
   "source": [
    "### EDUC (Raw IPUMs Codes)\n",
    "- 00: N/A or no schooling\n",
    "- 01: Nursery school to grade 4\n",
    "- 02: Grade 5, 6, 7, or 8\n",
    "- 03: Grade 9\n",
    "- 04: Grade 10\n",
    "- 05: Grade 11\n",
    "- 06: Grade 12\n",
    "- 07: 1 year of college\n",
    "- 08: 2 years of college\n",
    "- 09: 3 years of college\n",
    "- 10: 4 years of college\n",
    "- 11: 5+ years of college\n",
    "- 99: Missing"
   ]
  },
  {
   "cell_type": "markdown",
   "metadata": {},
   "source": [
    "### EDUC Conversation to Dummy Variables \"High School\" and \"College\"\n",
    "- High school diploma/no high school diploma (HIGH_SCHOOL): 1 if Grade 12 or more, else 0\n",
    "- Graduated college/did not graduate: 1 if 4 years of college or more, else 0"
   ]
  },
  {
   "cell_type": "code",
   "execution_count": 15,
   "metadata": {},
   "outputs": [],
   "source": [
    "data = data[data['EDUC'] != 99]"
   ]
  },
  {
   "cell_type": "code",
   "execution_count": 16,
   "metadata": {},
   "outputs": [],
   "source": [
    "data['HIGH_SCHOOL'] = data['EDUC'].map(lambda x: 0 if x < 6 else 1)\n",
    "data['COLLEGE'] = data['EDUC'].map(lambda x: 0 if x < 10 else 1)"
   ]
  },
  {
   "cell_type": "markdown",
   "metadata": {},
   "source": [
    "## Descriptive Statistics\n",
    "- Lists age, gender (Is_Female), and race (White, Black, Other)\n",
    "- Lists level of education (High_School, College)\n",
    "- Lists veteran status\n",
    "\n",
   ]
  },
  {
   "cell_type": "code",
   "execution_count": null,
   "metadata": {},
   "outputs": [
    {
     "data": {
      "text/html": [
       "<div>\n",
       "<style scoped>\n",
       "    .dataframe tbody tr th:only-of-type {\n",
       "        vertical-align: middle;\n",
       "    }\n",
       "\n",
       "    .dataframe tbody tr th {\n",
       "        vertical-align: top;\n",
       "    }\n",
       "\n",
       "    .dataframe thead th {\n",
       "        text-align: right;\n",
       "    }\n",
       "</style>\n",
       "<table border=\"1\" class=\"dataframe\">\n",
       "  <thead>\n",
       "    <tr style=\"text-align: right;\">\n",
       "      <th></th>\n",
       "      <th>mean</th>\n",
       "      <th>count</th>\n",
       "      <th>std</th>\n",
       "      <th>min</th>\n",
       "      <th>max</th>\n",
       "    </tr>\n",
       "  </thead>\n",
       "  <tbody>\n",
       "    <tr>\n",
       "      <th>AGE</th>\n",
       "      <td>53.89</td>\n",
       "      <td>2,327,346.00</td>\n",
       "      <td>16.91</td>\n",
       "      <td>25.00</td>\n",
       "      <td>96.00</td>\n",
       "    </tr>\n",
       "    <tr>\n",
       "      <th>VETSTAT</th>\n",
       "      <td>0.09</td>\n",
       "      <td>2,327,346.00</td>\n",
       "      <td>0.28</td>\n",
       "      <td>0.00</td>\n",
       "      <td>1.00</td>\n",
       "    </tr>\n",
       "    <tr>\n",
       "      <th>WHITE</th>\n",
       "      <td>0.79</td>\n",
       "      <td>2,327,346.00</td>\n",
       "      <td>0.41</td>\n",
       "      <td>0.00</td>\n",
       "      <td>1.00</td>\n",
       "    </tr>\n",
       "    <tr>\n",
       "      <th>BLACK</th>\n",
       "      <td>0.09</td>\n",
       "      <td>2,327,346.00</td>\n",
       "      <td>0.29</td>\n",
       "      <td>0.00</td>\n",
       "      <td>1.00</td>\n",
       "    </tr>\n",
       "    <tr>\n",
       "      <th>OTHER</th>\n",
       "      <td>0.12</td>\n",
       "      <td>2,327,346.00</td>\n",
       "      <td>0.32</td>\n",
       "      <td>0.00</td>\n",
       "      <td>1.00</td>\n",
       "    </tr>\n",
       "    <tr>\n",
       "      <th>IS_FEMALE</th>\n",
       "      <td>0.52</td>\n",
       "      <td>2,327,346.00</td>\n",
       "      <td>0.50</td>\n",
       "      <td>0.00</td>\n",
       "      <td>1.00</td>\n",
       "    </tr>\n",
       "    <tr>\n",
       "      <th>HIGH_SCHOOL</th>\n",
       "      <td>0.91</td>\n",
       "      <td>2,327,346.00</td>\n",
       "      <td>0.28</td>\n",
       "      <td>0.00</td>\n",
       "      <td>1.00</td>\n",
       "    </tr>\n",
       "    <tr>\n",
       "      <th>COLLEGE</th>\n",
       "      <td>0.34</td>\n",
       "      <td>2,327,346.00</td>\n",
       "      <td>0.47</td>\n",
       "      <td>0.00</td>\n",
       "      <td>1.00</td>\n",
       "    </tr>\n",
       "  </tbody>\n",
       "</table>\n",
       "</div>"
      ],
      "text/plain": [
       "             mean        count   std   min   max\n",
       "AGE         53.89 2,327,346.00 16.91 25.00 96.00\n",
       "VETSTAT      0.09 2,327,346.00  0.28  0.00  1.00\n",
       "WHITE        0.79 2,327,346.00  0.41  0.00  1.00\n",
       "BLACK        0.09 2,327,346.00  0.29  0.00  1.00\n",
       "OTHER        0.12 2,327,346.00  0.32  0.00  1.00\n",
       "IS_FEMALE    0.52 2,327,346.00  0.50  0.00  1.00\n",
       "HIGH_SCHOOL  0.91 2,327,346.00  0.28  0.00  1.00\n",
       "COLLEGE      0.34 2,327,346.00  0.47  0.00  1.00"
      ]
     },
     "execution_count": 17,
     "metadata": {},
     "output_type": "execute_result"
    }
   ],
   "source": [
    "summary_table = pd.DataFrame()\n",
    "remove = set([\"EDUC\",\"RACE\",\"SEX\"])\n",
    "for column in data.columns:\n",
    "    if column in remove:\n",
    "        continue\n",
    "    summary_table[column] = data[column].agg(['mean','std','min','max', 'count'])\n",
    "\n",
    "summary_table.T\n",
    "# We separated RACE into three dummy variables, recoded GENDER, divided EDUC into three dummy variables"
   ]
  },
  {
   "cell_type": "markdown",
   "metadata": {},
   "source": [
    "In examining the demographics and educational attainment of a population from which individuals under 25 have been excluded, several trends emerge, providing insights into the intersection between education and veteran status.\n",
    "\n",
    "Age: The mean age of the dataset is 53.89 years, a significant increase from the previous average of 42.22 years, when younger individuals were included, and spans a range from 25 to 96 years. The distribution of age, given the lower mean than the midpoint of the minimum and maximum, is slightly left-skewed, indicating a concentration of the population in the middle-age brackets rather than the older age spectrum.\n",
    "\n",
    "Vetstat: With a mean veteran status of 0.09, this indicates only 9% of the sample are veterans, the distribution here is expected to be highly right-skewed. This pronounced skewness emphasizes that veterans represent a small minority within the sampled population, which is a vital aspect to consider when conducting analyses related to veterans.\n",
    "\n",
    "Race: In the given dataset, the racial composition reveals that a significant majority, 79%, are White. Black individuals constitute 9% of the population, and individuals from other racial categories — including any of the other seven categories not specified as White or Black — make up 12% of the sample. This distribution is important because it suggests a predominance of White individuals within the sample, which could influence the generalizability of the study's findings across different racial groups.\n",
    "\n",
    "Education: The high school completion rate in the dataset is quite high at 91%, while college completion is notably lower at 34%. This suggests a potential barrier to higher education or a lack of necessity perceived by the majority who do not pursue education beyond high school. In the context of veterans, the extent to which their 9% representation overlaps with the 34% college-educated population could indicate the effectiveness of veteran educational benefits and programs.\n",
    "\n",
    "Gender: With a gender split of 52% female (coded as 1) and 48% male (coded as 0), the population sample is almost evenly divided between genders. This balance is critical as it allows for a more accurate assessment of how gender may influence the relationship between veteran status and education. The even gender distribution is crucial for understanding whether educational attainment among veterans is gender-neutral or if there are disparities that need to be addressed."
   ]
  },
  {
   "cell_type": "markdown",
   "metadata": {},
   "source": [
    "## Plots"
   ]
  },
  {
   "cell_type": "code",
   "execution_count": 18,
   "metadata": {},
   "outputs": [
    {
     "data": {
      "text/plain": [
       "COLLEGE  VETSTAT\n",
       "0        0          1389421\n",
       "         1           142552\n",
       "1        0           735704\n",
       "         1            59669\n",
       "Name: count, dtype: int64"
      ]
     },
     "execution_count": 18,
     "metadata": {},
     "output_type": "execute_result"
    }
   ],
   "source": [
    "# https://python-graph-gallery.com/stacked-and-percent-stacked-barplot/\n",
    "total = data[['VETSTAT','COLLEGE']].groupby(['COLLEGE','VETSTAT']).value_counts()\n",
    "total"
   ]
  },
  {
   "cell_type": "code",
   "execution_count": 19,
   "metadata": {},
   "outputs": [
    {
     "data": {
      "text/html": [
       "<div>\n",
       "<style scoped>\n",
       "    .dataframe tbody tr th:only-of-type {\n",
       "        vertical-align: middle;\n",
       "    }\n",
       "\n",
       "    .dataframe tbody tr th {\n",
       "        vertical-align: top;\n",
       "    }\n",
       "\n",
       "    .dataframe thead th {\n",
       "        text-align: right;\n",
       "    }\n",
       "</style>\n",
       "<table border=\"1\" class=\"dataframe\">\n",
       "  <thead>\n",
       "    <tr style=\"text-align: right;\">\n",
       "      <th></th>\n",
       "      <th>COLLEGE</th>\n",
       "      <th>VETSTAT</th>\n",
       "      <th>count</th>\n",
       "    </tr>\n",
       "  </thead>\n",
       "  <tbody>\n",
       "    <tr>\n",
       "      <th>0</th>\n",
       "      <td>0</td>\n",
       "      <td>0</td>\n",
       "      <td>1389421</td>\n",
       "    </tr>\n",
       "    <tr>\n",
       "      <th>1</th>\n",
       "      <td>0</td>\n",
       "      <td>1</td>\n",
       "      <td>142552</td>\n",
       "    </tr>\n",
       "    <tr>\n",
       "      <th>2</th>\n",
       "      <td>1</td>\n",
       "      <td>0</td>\n",
       "      <td>735704</td>\n",
       "    </tr>\n",
       "    <tr>\n",
       "      <th>3</th>\n",
       "      <td>1</td>\n",
       "      <td>1</td>\n",
       "      <td>59669</td>\n",
       "    </tr>\n",
       "  </tbody>\n",
       "</table>\n",
       "</div>"
      ],
      "text/plain": [
       "   COLLEGE  VETSTAT    count\n",
       "0        0        0  1389421\n",
       "1        0        1   142552\n",
       "2        1        0   735704\n",
       "3        1        1    59669"
      ]
     },
     "execution_count": 19,
     "metadata": {},
     "output_type": "execute_result"
    }
   ],
   "source": [
    "#total has a MultiIndex index we need to reset it\n",
    "total = total.reset_index(level=[0,1]) # [\"EDUC\", \"VETSTAT\"] also works here\n",
    "total"
   ]
  },
  {
   "cell_type": "code",
   "execution_count": 20,
   "metadata": {},
   "outputs": [],
   "source": [
    "def race_label(row):\n",
    "    if row['WHITE']:\n",
    "        return 'WHITE'\n",
    "    if row['BLACK']:\n",
    "        return 'BLACK'\n",
    "    \n",
    "    return 'OTHER'"
   ]
  },
  {
   "cell_type": "code",
   "execution_count": 21,
   "metadata": {},
   "outputs": [],
   "source": [
    "data['RACE_LABEL'] = data[['WHITE','BLACK','OTHER']].apply(race_label,axis=1)"
   ]
  },
  {
   "cell_type": "code",
   "execution_count": 22,
   "metadata": {},
   "outputs": [
    {
     "data": {
      "text/html": [
       "<div>\n",
       "<style scoped>\n",
       "    .dataframe tbody tr th:only-of-type {\n",
       "        vertical-align: middle;\n",
       "    }\n",
       "\n",
       "    .dataframe tbody tr th {\n",
       "        vertical-align: top;\n",
       "    }\n",
       "\n",
       "    .dataframe thead th {\n",
       "        text-align: right;\n",
       "    }\n",
       "</style>\n",
       "<table border=\"1\" class=\"dataframe\">\n",
       "  <thead>\n",
       "    <tr style=\"text-align: right;\">\n",
       "      <th></th>\n",
       "      <th>VETSTAT</th>\n",
       "      <th>COLLEGE</th>\n",
       "      <th>RACE_LABEL</th>\n",
       "      <th>count</th>\n",
       "    </tr>\n",
       "  </thead>\n",
       "  <tbody>\n",
       "    <tr>\n",
       "      <th>0</th>\n",
       "      <td>0</td>\n",
       "      <td>0</td>\n",
       "      <td>WHITE</td>\n",
       "      <td>1078324</td>\n",
       "    </tr>\n",
       "    <tr>\n",
       "      <th>1</th>\n",
       "      <td>0</td>\n",
       "      <td>0</td>\n",
       "      <td>OTHER</td>\n",
       "      <td>160821</td>\n",
       "    </tr>\n",
       "    <tr>\n",
       "      <th>2</th>\n",
       "      <td>0</td>\n",
       "      <td>0</td>\n",
       "      <td>BLACK</td>\n",
       "      <td>150276</td>\n",
       "    </tr>\n",
       "    <tr>\n",
       "      <th>3</th>\n",
       "      <td>0</td>\n",
       "      <td>1</td>\n",
       "      <td>WHITE</td>\n",
       "      <td>594739</td>\n",
       "    </tr>\n",
       "    <tr>\n",
       "      <th>4</th>\n",
       "      <td>0</td>\n",
       "      <td>1</td>\n",
       "      <td>OTHER</td>\n",
       "      <td>98698</td>\n",
       "    </tr>\n",
       "    <tr>\n",
       "      <th>5</th>\n",
       "      <td>0</td>\n",
       "      <td>1</td>\n",
       "      <td>BLACK</td>\n",
       "      <td>42267</td>\n",
       "    </tr>\n",
       "    <tr>\n",
       "      <th>6</th>\n",
       "      <td>1</td>\n",
       "      <td>0</td>\n",
       "      <td>WHITE</td>\n",
       "      <td>120563</td>\n",
       "    </tr>\n",
       "    <tr>\n",
       "      <th>7</th>\n",
       "      <td>1</td>\n",
       "      <td>0</td>\n",
       "      <td>BLACK</td>\n",
       "      <td>14398</td>\n",
       "    </tr>\n",
       "    <tr>\n",
       "      <th>8</th>\n",
       "      <td>1</td>\n",
       "      <td>0</td>\n",
       "      <td>OTHER</td>\n",
       "      <td>7591</td>\n",
       "    </tr>\n",
       "    <tr>\n",
       "      <th>9</th>\n",
       "      <td>1</td>\n",
       "      <td>1</td>\n",
       "      <td>WHITE</td>\n",
       "      <td>52042</td>\n",
       "    </tr>\n",
       "    <tr>\n",
       "      <th>10</th>\n",
       "      <td>1</td>\n",
       "      <td>1</td>\n",
       "      <td>BLACK</td>\n",
       "      <td>4389</td>\n",
       "    </tr>\n",
       "    <tr>\n",
       "      <th>11</th>\n",
       "      <td>1</td>\n",
       "      <td>1</td>\n",
       "      <td>OTHER</td>\n",
       "      <td>3238</td>\n",
       "    </tr>\n",
       "  </tbody>\n",
       "</table>\n",
       "</div>"
      ],
      "text/plain": [
       "    VETSTAT  COLLEGE RACE_LABEL    count\n",
       "0         0        0      WHITE  1078324\n",
       "1         0        0      OTHER   160821\n",
       "2         0        0      BLACK   150276\n",
       "3         0        1      WHITE   594739\n",
       "4         0        1      OTHER    98698\n",
       "5         0        1      BLACK    42267\n",
       "6         1        0      WHITE   120563\n",
       "7         1        0      BLACK    14398\n",
       "8         1        0      OTHER     7591\n",
       "9         1        1      WHITE    52042\n",
       "10        1        1      BLACK     4389\n",
       "11        1        1      OTHER     3238"
      ]
     },
     "execution_count": 22,
     "metadata": {},
     "output_type": "execute_result"
    }
   ],
   "source": [
    "race_vet = data[['RACE_LABEL','COLLEGE','VETSTAT']].groupby(['VETSTAT','COLLEGE']).value_counts().reset_index()\n",
    "race_vet"
   ]
  },
  {
   "cell_type": "code",
   "execution_count": 23,
   "metadata": {},
   "outputs": [
    {
     "data": {
      "text/html": [
       "<div>\n",
       "<style scoped>\n",
       "    .dataframe tbody tr th:only-of-type {\n",
       "        vertical-align: middle;\n",
       "    }\n",
       "\n",
       "    .dataframe tbody tr th {\n",
       "        vertical-align: top;\n",
       "    }\n",
       "\n",
       "    .dataframe thead th {\n",
       "        text-align: right;\n",
       "    }\n",
       "</style>\n",
       "<table border=\"1\" class=\"dataframe\">\n",
       "  <thead>\n",
       "    <tr style=\"text-align: right;\">\n",
       "      <th></th>\n",
       "      <th></th>\n",
       "      <th></th>\n",
       "      <th>count</th>\n",
       "    </tr>\n",
       "    <tr>\n",
       "      <th>VETSTAT</th>\n",
       "      <th>RACE_LABEL</th>\n",
       "      <th>COLLEGE</th>\n",
       "      <th></th>\n",
       "    </tr>\n",
       "  </thead>\n",
       "  <tbody>\n",
       "    <tr>\n",
       "      <th rowspan=\"6\" valign=\"top\">0</th>\n",
       "      <th rowspan=\"2\" valign=\"top\">BLACK</th>\n",
       "      <th>0</th>\n",
       "      <td>150276</td>\n",
       "    </tr>\n",
       "    <tr>\n",
       "      <th>1</th>\n",
       "      <td>42267</td>\n",
       "    </tr>\n",
       "    <tr>\n",
       "      <th rowspan=\"2\" valign=\"top\">OTHER</th>\n",
       "      <th>0</th>\n",
       "      <td>160821</td>\n",
       "    </tr>\n",
       "    <tr>\n",
       "      <th>1</th>\n",
       "      <td>98698</td>\n",
       "    </tr>\n",
       "    <tr>\n",
       "      <th rowspan=\"2\" valign=\"top\">WHITE</th>\n",
       "      <th>0</th>\n",
       "      <td>1078324</td>\n",
       "    </tr>\n",
       "    <tr>\n",
       "      <th>1</th>\n",
       "      <td>594739</td>\n",
       "    </tr>\n",
       "    <tr>\n",
       "      <th rowspan=\"6\" valign=\"top\">1</th>\n",
       "      <th rowspan=\"2\" valign=\"top\">BLACK</th>\n",
       "      <th>0</th>\n",
       "      <td>14398</td>\n",
       "    </tr>\n",
       "    <tr>\n",
       "      <th>1</th>\n",
       "      <td>4389</td>\n",
       "    </tr>\n",
       "    <tr>\n",
       "      <th rowspan=\"2\" valign=\"top\">OTHER</th>\n",
       "      <th>0</th>\n",
       "      <td>7591</td>\n",
       "    </tr>\n",
       "    <tr>\n",
       "      <th>1</th>\n",
       "      <td>3238</td>\n",
       "    </tr>\n",
       "    <tr>\n",
       "      <th rowspan=\"2\" valign=\"top\">WHITE</th>\n",
       "      <th>0</th>\n",
       "      <td>120563</td>\n",
       "    </tr>\n",
       "    <tr>\n",
       "      <th>1</th>\n",
       "      <td>52042</td>\n",
       "    </tr>\n",
       "  </tbody>\n",
       "</table>\n",
       "</div>"
      ],
      "text/plain": [
       "                              count\n",
       "VETSTAT RACE_LABEL COLLEGE         \n",
       "0       BLACK      0         150276\n",
       "                   1          42267\n",
       "        OTHER      0         160821\n",
       "                   1          98698\n",
       "        WHITE      0        1078324\n",
       "                   1         594739\n",
       "1       BLACK      0          14398\n",
       "                   1           4389\n",
       "        OTHER      0           7591\n",
       "                   1           3238\n",
       "        WHITE      0         120563\n",
       "                   1          52042"
      ]
     },
     "execution_count": 23,
     "metadata": {},
     "output_type": "execute_result"
    }
   ],
   "source": [
    "race_counts = race_vet.groupby([\"VETSTAT\",\"RACE_LABEL\",\"COLLEGE\"]).sum()\n",
    "race_counts"
   ]
  },
  {
   "cell_type": "code",
   "execution_count": 24,
   "metadata": {},
   "outputs": [
    {
     "data": {
      "text/plain": [
       "{(0,\n",
       "  'BLACK'): count    192543\n",
       " dtype: int64,\n",
       " (0,\n",
       "  'WHITE'): count    1673063\n",
       " dtype: int64,\n",
       " (0,\n",
       "  'OTHER'): count    259519\n",
       " dtype: int64,\n",
       " (1,\n",
       "  'BLACK'): count    18787\n",
       " dtype: int64,\n",
       " (1,\n",
       "  'WHITE'): count    172605\n",
       " dtype: int64,\n",
       " (1,\n",
       "  'OTHER'): count    10829\n",
       " dtype: int64}"
      ]
     },
     "execution_count": 24,
     "metadata": {},
     "output_type": "execute_result"
    }
   ],
   "source": [
    "totals = {}\n",
    "# vt, rl\n",
    "for vt in (0,1):\n",
    "    for rl in (\"BLACK\",\"WHITE\",\"OTHER\"):\n",
    "        totals[(vt,rl)] = race_counts.loc[vt].loc[rl].sum()\n",
    "\n",
    "totals"
   ]
  },
  {
   "cell_type": "code",
   "execution_count": 25,
   "metadata": {},
   "outputs": [
    {
     "data": {
      "text/html": [
       "<div>\n",
       "<style scoped>\n",
       "    .dataframe tbody tr th:only-of-type {\n",
       "        vertical-align: middle;\n",
       "    }\n",
       "\n",
       "    .dataframe tbody tr th {\n",
       "        vertical-align: top;\n",
       "    }\n",
       "\n",
       "    .dataframe thead th {\n",
       "        text-align: right;\n",
       "    }\n",
       "</style>\n",
       "<table border=\"1\" class=\"dataframe\">\n",
       "  <thead>\n",
       "    <tr style=\"text-align: right;\">\n",
       "      <th></th>\n",
       "      <th>COLLEGE</th>\n",
       "      <th>VETSTAT</th>\n",
       "      <th>count</th>\n",
       "    </tr>\n",
       "  </thead>\n",
       "  <tbody>\n",
       "    <tr>\n",
       "      <th>0</th>\n",
       "      <td>0</td>\n",
       "      <td>0</td>\n",
       "      <td>1389421</td>\n",
       "    </tr>\n",
       "    <tr>\n",
       "      <th>1</th>\n",
       "      <td>0</td>\n",
       "      <td>1</td>\n",
       "      <td>142552</td>\n",
       "    </tr>\n",
       "    <tr>\n",
       "      <th>2</th>\n",
       "      <td>1</td>\n",
       "      <td>0</td>\n",
       "      <td>735704</td>\n",
       "    </tr>\n",
       "    <tr>\n",
       "      <th>3</th>\n",
       "      <td>1</td>\n",
       "      <td>1</td>\n",
       "      <td>59669</td>\n",
       "    </tr>\n",
       "  </tbody>\n",
       "</table>\n",
       "</div>"
      ],
      "text/plain": [
       "   COLLEGE  VETSTAT    count\n",
       "0        0        0  1389421\n",
       "1        0        1   142552\n",
       "2        1        0   735704\n",
       "3        1        1    59669"
      ]
     },
     "execution_count": 25,
     "metadata": {},
     "output_type": "execute_result"
    }
   ],
   "source": [
    "def race_to_pct(x,rl,vt):\n",
    "    print((vt,rl), (vt,rl) in total)\n",
    "    cnt = totals[(int(vt),str(rl))] # # of people of both vetstat status and race_label with 4+ years of college\n",
    "    return ((x['count']/cnt)) * 100\n",
    "\n",
    "total"
   ]
  },
  {
   "cell_type": "code",
   "execution_count": 26,
   "metadata": {},
   "outputs": [
    {
     "name": "stdout",
     "output_type": "stream",
     "text": [
      "(0, 'WHITE') False\n",
      "(0, 'OTHER') False\n",
      "(0, 'BLACK') False\n",
      "(0, 'WHITE') False\n",
      "(0, 'OTHER') False\n",
      "(0, 'BLACK') False\n",
      "(1, 'WHITE') False\n",
      "(1, 'BLACK') False\n",
      "(1, 'OTHER') False\n",
      "(1, 'WHITE') False\n",
      "(1, 'BLACK') False\n",
      "(1, 'OTHER') False\n"
     ]
    }
   ],
   "source": [
    "race_vet['norm_cnt'] = race_vet.apply(lambda x: race_to_pct(x,rl=x['RACE_LABEL'],vt=x[\"VETSTAT\"]),axis=1)\n",
    "race_vet = race_vet[race_vet['COLLEGE'] == 1]"
   ]
  },
  {
   "cell_type": "code",
   "execution_count": 27,
   "metadata": {},
   "outputs": [
    {
     "name": "stderr",
     "output_type": "stream",
     "text": [
      "C:\\Users\\Alexa\\AppData\\Local\\Temp\\ipykernel_31940\\189345210.py:1: SettingWithCopyWarning: \n",
      "A value is trying to be set on a copy of a slice from a DataFrame.\n",
      "Try using .loc[row_indexer,col_indexer] = value instead\n",
      "\n",
      "See the caveats in the documentation: https://pandas.pydata.org/pandas-docs/stable/user_guide/indexing.html#returning-a-view-versus-a-copy\n",
      "  race_vet[\"Race\"] = race_vet[\"RACE_LABEL\"].apply(lambda x: \"White\" if x == \"WHITE\" else \"Black\" if x == \"BLACK\" else \"Other\")\n"
     ]
    }
   ],
   "source": [
    "race_vet[\"Race\"] = race_vet[\"RACE_LABEL\"].apply(lambda x: \"White\" if x == \"WHITE\" else \"Black\" if x == \"BLACK\" else \"Other\")"
   ]
  },
  {
   "cell_type": "code",
   "execution_count": 28,
   "metadata": {},
   "outputs": [
    {
     "data": {
      "image/png": "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",
      "text/plain": [
       "<Figure size 590.375x500 with 1 Axes>"
      ]
     },
     "metadata": {},
     "output_type": "display_data"
    }
   ],
   "source": [
    "sns.catplot(data=race_vet, kind='bar',x='VETSTAT',y ='norm_cnt',hue='Race',errorbar=None)\n",
    "\n",
    "plt.title(\"College Educated Rates by Race and Veteran Status\")\n",
    "plt.ylabel(\"College Education Rates (PCT)\")\n",
    "plt.xlabel(\"Veteran Status\")\n",
    "plt.xticks([0,1],[\"Not a Veteran\", \"Veteran\"])\n",
    "fmt = '%.0f%%'\n",
    "yticks = mtick.FormatStrFormatter(fmt)\n",
    "# multi-index by two variables. (White and Vet in College) / (White & Vet)"
   ]
  },
  {
   "cell_type": "markdown",
   "metadata": {},
   "source": [
    "This bar graph shows a comparison of those who have completed their college education based on their veteran status and then further split between the three race categories, White, Other, or Black. From this graph we can see that amongst those who are not veterans (VETSTAT = 0), the racial group that has the highest rate of college education are the Other group, any race that is not White or Black, at a staggering rate of around 39%. The second highest being the White group at around 35%, and the Black racial group is much lower at around 22%. \n",
    "\n",
    "For those who are veterans (VETSTAT = 1), we see that the racial group with the highest rates of college education are those that are White at around 30%, with the Other racial group trailing just underneath very closely. The Black racial group is slighlty lower at 24%. \n",
    "\n",
    "When we begin to compare between the nonveterans and the veterans, we can see that amongst the White and Other racial groups, the difference is much larger than between the nonveterans and veterans who are Black. This could suggest that for the White and Other racial groups there could be more disadvantages of leaving the military and attempting to reenter civilian life and continue higher education. Amongst the Black racial group, the rate of college education amongst veterans was actually slightly higher than those who were nonveterans, suggesting there might be more educational benefits offered to veterans than to those who are Black nonveterans. \n"
   ]
  },
  {
   "cell_type": "code",
   "execution_count": 29,
   "metadata": {},
   "outputs": [],
   "source": [
    "def convert_educ(x):\n",
    "    if x['COLLEGE']:\n",
    "        return \"COLLEGE\"\n",
    "    if x['HIGH_SCHOOL']:\n",
    "        return 'HIGH_SCHOOL'\n",
    "    \n",
    "    return \"NONE\""
   ]
  },
  {
   "cell_type": "code",
   "execution_count": 30,
   "metadata": {},
   "outputs": [],
   "source": [
    "data['EDUC_LABEL'] = data.apply(convert_educ,axis=1)"
   ]
  },
  {
   "cell_type": "code",
   "execution_count": 31,
   "metadata": {},
   "outputs": [],
   "source": [
    "educ_vet = data[['VETSTAT','EDUC_LABEL']].groupby('VETSTAT').value_counts().reset_index()"
   ]
  },
  {
   "cell_type": "code",
   "execution_count": 32,
   "metadata": {},
   "outputs": [
    {
     "data": {
      "text/html": [
       "<div>\n",
       "<style scoped>\n",
       "    .dataframe tbody tr th:only-of-type {\n",
       "        vertical-align: middle;\n",
       "    }\n",
       "\n",
       "    .dataframe tbody tr th {\n",
       "        vertical-align: top;\n",
       "    }\n",
       "\n",
       "    .dataframe thead th {\n",
       "        text-align: right;\n",
       "    }\n",
       "</style>\n",
       "<table border=\"1\" class=\"dataframe\">\n",
       "  <thead>\n",
       "    <tr style=\"text-align: right;\">\n",
       "      <th></th>\n",
       "      <th>VETSTAT</th>\n",
       "      <th>EDUC_LABEL</th>\n",
       "      <th>count</th>\n",
       "    </tr>\n",
       "  </thead>\n",
       "  <tbody>\n",
       "    <tr>\n",
       "      <th>0</th>\n",
       "      <td>0</td>\n",
       "      <td>HIGH_SCHOOL</td>\n",
       "      <td>1199232</td>\n",
       "    </tr>\n",
       "    <tr>\n",
       "      <th>1</th>\n",
       "      <td>0</td>\n",
       "      <td>COLLEGE</td>\n",
       "      <td>735704</td>\n",
       "    </tr>\n",
       "    <tr>\n",
       "      <th>2</th>\n",
       "      <td>0</td>\n",
       "      <td>NONE</td>\n",
       "      <td>190189</td>\n",
       "    </tr>\n",
       "    <tr>\n",
       "      <th>3</th>\n",
       "      <td>1</td>\n",
       "      <td>HIGH_SCHOOL</td>\n",
       "      <td>133647</td>\n",
       "    </tr>\n",
       "    <tr>\n",
       "      <th>4</th>\n",
       "      <td>1</td>\n",
       "      <td>COLLEGE</td>\n",
       "      <td>59669</td>\n",
       "    </tr>\n",
       "    <tr>\n",
       "      <th>5</th>\n",
       "      <td>1</td>\n",
       "      <td>NONE</td>\n",
       "      <td>8905</td>\n",
       "    </tr>\n",
       "  </tbody>\n",
       "</table>\n",
       "</div>"
      ],
      "text/plain": [
       "   VETSTAT   EDUC_LABEL    count\n",
       "0        0  HIGH_SCHOOL  1199232\n",
       "1        0      COLLEGE   735704\n",
       "2        0         NONE   190189\n",
       "3        1  HIGH_SCHOOL   133647\n",
       "4        1      COLLEGE    59669\n",
       "5        1         NONE     8905"
      ]
     },
     "execution_count": 32,
     "metadata": {},
     "output_type": "execute_result"
    }
   ],
   "source": [
    "educ_vet"
   ]
  },
  {
   "cell_type": "code",
   "execution_count": 33,
   "metadata": {},
   "outputs": [
    {
     "data": {
      "text/plain": [
       "VETSTAT  EDUC_LABEL \n",
       "0        HIGH_SCHOOL    1199232\n",
       "         COLLEGE         735704\n",
       "         NONE            190189\n",
       "1        HIGH_SCHOOL     133647\n",
       "         COLLEGE          59669\n",
       "         NONE              8905\n",
       "Name: count, dtype: int64"
      ]
     },
     "execution_count": 33,
     "metadata": {},
     "output_type": "execute_result"
    }
   ],
   "source": [
    "educ_vets = data[['EDUC_LABEL','VETSTAT']].groupby(['VETSTAT']).value_counts()\n",
    "educ_vets"
   ]
  },
  {
   "cell_type": "code",
   "execution_count": 34,
   "metadata": {},
   "outputs": [
    {
     "data": {
      "text/plain": [
       "VETSTAT\n",
       "0    2125125\n",
       "1     202221\n",
       "Name: count, dtype: int64"
      ]
     },
     "execution_count": 34,
     "metadata": {},
     "output_type": "execute_result"
    }
   ],
   "source": [
    "vet_counts = data['VETSTAT'].value_counts()\n",
    "vet_counts"
   ]
  },
  {
   "cell_type": "code",
   "execution_count": 35,
   "metadata": {},
   "outputs": [],
   "source": [
    "educ_cnts = data['EDUC_LABEL'].value_counts().to_dict()\n",
    "\n",
    "# Do we normalize by veteran count\n",
    "def educ_to_pct(x):\n",
    "    #cnt = educ_cnts[x['EDUC_LABEL']] # if we want to normalize by educ\n",
    "    # normalize by vetstat\n",
    "    cnt = vet_counts.loc[x['VETSTAT']] # normalize by vet\n",
    "\n",
    "    return ((x['count']/cnt)) * 100"
   ]
  },
  {
   "cell_type": "code",
   "execution_count": 36,
   "metadata": {},
   "outputs": [],
   "source": [
    "educ_vet['norm_educ'] = educ_vet.apply(lambda x: educ_to_pct(x),axis=1)"
   ]
  },
  {
   "cell_type": "code",
   "execution_count": 37,
   "metadata": {},
   "outputs": [],
   "source": [
    "educ_vet[\"Education\"] = educ_vet[\"EDUC_LABEL\"].apply(lambda x: \"High School\" if x  == \"HIGH_SCHOOL\" else \"College\" if x == \"COLLEGE\" else \"Neither\")"
   ]
  },
  {
   "cell_type": "code",
   "execution_count": 38,
   "metadata": {},
   "outputs": [
    {
     "data": {
      "image/png": "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",
      "text/plain": [
       "<Figure size 632.25x500 with 1 Axes>"
      ]
     },
     "metadata": {},
     "output_type": "display_data"
    }
   ],
   "source": [
    "sns.catplot(data=educ_vet, kind='bar',x='VETSTAT',y ='norm_educ',hue='Education',errorbar=None)\n",
    "\n",
    "plt.title(\"Education Status Normalized by Vet Status\")\n",
    "plt.ylabel(\"Percentage by Education Status\")\n",
    "plt.xlabel(\"Veteran Status\")\n",
    "plt.xticks([0,1],[\"Not a Veteran\", \"Veteran\"])\n",
    "\n",
    "\n",
    "fmt = '%.0f%%'\n",
    "yticks = mtick.FormatStrFormatter(fmt)"
   ]
  },
  {
   "cell_type": "markdown",
   "metadata": {},
   "source": [
    "This bar graph shows a comparison between education status, whether someone has finished High School, College, or neither, and veterans status, whether someone is a veteran (VETSTAT = 1) or not (VETSTAT = 0). When we compare those who completed high school, we see that more veterans have completed high school than nonveterans. Around 65% of veterans completed high school whereas only around 58% of nonveterans completed high school. For those who completed college, we see that less veterans completed college compared to nonveterans. Only around 30% of veterans completed college, whereas 35% of nonveterans had completed college. And finally, amongst those that completed neither high school nor college, less veterans had completed neither compared to nonveterans. Only 5% of veterans had completed neither educational degrees, compared to around 9% of nonveterans having not completed either degree. \n",
    "\n",
    "When we compare veterans and nonveterans it’s interesting to see that between these two groups, veterans had more high school and college graduates than nonveterans. However, amongst those with high school education it is understandable that more veterans had a high school education since many soldiers who are recruited are recruited amongst high school graduates (Morgan et. al). This sentiment continues when we analyze college education status between veterans and nonveterans, since more nonveterans had completed college compared to veterans, this could suggest that the educational benefits that are being offered to veterans, such as the GI Bill, are not or underutilized by veterans (Morgan et. al). This could all come together by showing that the majority of civilians should have more initiatives to help civilians graduate high school and that veterans could use more help returning to civilian life and continuing their education (Morgan et. al). \n"
   ]
  },
  {
   "cell_type": "markdown",
   "metadata": {},
   "source": [
    "## Proportion Tests\n",
    "- Test 1 – Comparing the education of veterans vs nonveterans \n",
    "- Test 2 – Comparing the education of female veterans and female non-vets \n",
    "- Test 3 – Comparing the education of male veterans and female veterans "
   ]
  },
  {
   "cell_type": "code",
   "execution_count": 39,
   "metadata": {},
   "outputs": [],
   "source": [
    "from statsmodels.stats.proportion import proportions_ztest"
   ]
  },
  {
   "cell_type": "code",
   "execution_count": 40,
   "metadata": {},
   "outputs": [
    {
     "name": "stdout",
     "output_type": "stream",
     "text": [
      "COLLEGE        0       1      All\n",
      "VETSTAT                          \n",
      "0        1389421  735704  2125125\n",
      "1         142552   59669   202221\n",
      "All      1531973  795373  2327346\n",
      "test-statistic:  -46.3189\n",
      "p-value:  0.0\n"
     ]
    }
   ],
   "source": [
    "# proportion z-test comparing education of veterans vs nonveterans\n",
    "ctab = pd.crosstab(data['VETSTAT'],data['COLLEGE'],margins=True)\n",
    "\n",
    "print(ctab)\n",
    "\n",
    "test_1 = proportions_ztest([ctab.loc[0,0],ctab.loc[1,0]],[ctab.loc[0,\"All\"],ctab.loc[1,\"All\"]])\n",
    "print('test-statistic: ', round(test_1[0],4))\n",
    "print('p-value: ', round(test_1[1],4))\n",
    "# Given critical value of 0.05, we reject the Null Hypothesis H_0: \\p_V = \\p_NV\n",
    "# Therefore, the proportion of college educated veterans does NOT equal the proportion of college educated nonveterans"
   ]
  },
  {
   "cell_type": "code",
   "execution_count": 41,
   "metadata": {},
   "outputs": [],
   "source": [
    "data[\"FEMALE_VET\"] = data.apply(lambda x: 1 if ((x['IS_FEMALE'] == 1) & (x['VETSTAT'] == 1)) else 0, axis=1)"
   ]
  },
  {
   "cell_type": "code",
   "execution_count": 42,
   "metadata": {},
   "outputs": [
    {
     "name": "stdout",
     "output_type": "stream",
     "text": [
      "COLLEGE           0       1      All\n",
      "FEMALE_VET                          \n",
      "0           1521408  788817  2310225\n",
      "1             10565    6556    17121\n",
      "All         1531973  795373  2327346\n",
      "test-statistic:  11.4\n",
      "p-value:  0.0\n"
     ]
    }
   ],
   "source": [
    "# proportion z-test comparing education of female veterans vs female nonveterans\n",
    "ctab = pd.crosstab(data[\"FEMALE_VET\"],data['COLLEGE'],margins=True)\n",
    "\n",
    "print(ctab)\n",
    "\n",
    "test_2 = proportions_ztest([ctab.loc[0,0],ctab.loc[1,0]],[ctab.loc[0,\"All\"],ctab.loc[1,\"All\"]])\n",
    "print('test-statistic: ', round(test_2[0],4))\n",
    "print('p-value: ', round(test_2[1],4))\n",
    "# Given critical value of 0.05, we reject the Null Hypothesis H_0: \\p_FV = \\p_FNV\n",
    "# Therefore, the proportion of college educated female veterans does NOT equal the proportion of college educated female nonveterans"
   ]
  },
  {
   "cell_type": "code",
   "execution_count": 43,
   "metadata": {},
   "outputs": [],
   "source": [
    "data[\"BLACK_VET\"] = data.apply(lambda x: 1 if ((x['BLACK'] == 1) & (x['VETSTAT'] == 1)) else 0, axis=1)"
   ]
  },
  {
   "cell_type": "code",
   "execution_count": 44,
   "metadata": {},
   "outputs": [
    {
     "name": "stdout",
     "output_type": "stream",
     "text": [
      "COLLEGE          0       1      All\n",
      "BLACK_VET                          \n",
      "0          1517575  790984  2308559\n",
      "1            14398    4389    18787\n",
      "All        1531973  795373  2327346\n",
      "test-statistic:  -31.3757\n",
      "p-value:  0.0\n"
     ]
    }
   ],
   "source": [
    "# proportion z-test comparing education of black veterans vs black non-veterans\n",
    "ctab = pd.crosstab(data[\"BLACK_VET\"],data['COLLEGE'],margins=True)\n",
    "\n",
    "print(ctab)\n",
    "\n",
    "test_3 = proportions_ztest([ctab.loc[0,0],ctab.loc[1,0]],[ctab.loc[0,\"All\"],ctab.loc[1,\"All\"]])\n",
    "print('test-statistic: ', round(test_3[0],4))\n",
    "print('p-value: ', round(test_3[1],4))\n",
    "# Given critical value of 0.05, we reject the Null Hypothesis H_0: \\p_BV = \\p_BNV\n",
    "# Therefore, the proportion of college educated black veterans does NOT equal the proportion fo college educated black nonveterans"
   ]
  },
  {
   "cell_type": "markdown",
   "metadata": {},
   "source": [
    "# Conclusion \n",
    "Overall, veterans in the U.S. are less likely to possess a college degree than non-veterans. Interestingly, they are more likely to have a high school education. The percentage of nonveterans with less than a complete high school education is also higher.\n",
    "    \n",
    "The U.S. government awards strong, substantial educational benefits to its veterans, and there is no doubt that when these benefits were passed by Congress, they actually increased degree attainment (Barr). But clearly, these incentives to continue higher education are not strong enough to counteract other forces that push veterans to be less college-educated. Veterans have trouble assimilating into the academic world (Borsari et al). And the military’s ability to act as a springboard is dependent on the socioeconomic background of the individual (Wang et al). Indeed, we found that military service helps different groups to different extents – black veterans are more likely to have a college degree than black non-veterans, but the opposite is true when we examined white veterans and those not white or black.\n",
    "\n",
    "The military recognizes these hurdles, and has programs in place. Post-9/11, the veterans who sought support from a veterans’ center almost doubled their chances of graduating college. A trend similar in strength occurred when a veteran got help from a veteran-student organization (Morgan et al). The military also provides a career assistance program called the Transition Assistance Program, which, besides helping new veterans find a job, increases awareness of the educational benefits offered to veterans (Li). These programs are on the right track. Programs that help veterans – especially those belonging to disadvantaged groups – through specialized outreach and clinical services have been cited as one of the most promising ways to increase educational attainment (Morgan et al).\n",
    "\n",
    "If anything is clear, it is this: service in the military is associated with a shift in college degree attainment. In all three two-tailed tests examining differences in proportions – veterans vs. non-veterans, female veterans vs. female non-veterans, and black veterans vs. black non-veterans – the null hypothesis asserting no real difference was soundly rejected with a p-value of virtually zero.\n"
   ]
  }
 ],
 "metadata": {
  "kernelspec": {
   "display_name": "Python 3 (ipykernel)",
   "language": "python",
   "name": "python3"
  },
  "language_info": {
   "codemirror_mode": {
    "name": "ipython",
    "version": 3
   },
   "file_extension": ".py",
   "mimetype": "text/x-python",
   "name": "python",
   "nbconvert_exporter": "python",
   "pygments_lexer": "ipython3",
   "version": "3.10.13"
  }
 },
 "nbformat": 4,
 "nbformat_minor": 2
}
